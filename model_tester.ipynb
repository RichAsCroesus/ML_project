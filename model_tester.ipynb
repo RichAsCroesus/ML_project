{
 "cells": [
  {
   "cell_type": "code",
   "execution_count": 1,
   "id": "8c7f47b0-064c-49ba-983b-6b8badb9f831",
   "metadata": {},
   "outputs": [
    {
     "name": "stdout",
     "output_type": "stream",
     "text": [
      "2.8.0\n",
      "3.10.4 (main, Mar 25 2022, 00:00:00) [GCC 11.2.1 20220127 (Red Hat 11.2.1-9)]\n"
     ]
    }
   ],
   "source": [
    "import os\n",
    "import zipfile\n",
    "import random\n",
    "import tensorflow as tf\n",
    "import keras \n",
    "\n",
    "\n",
    "import random\n",
    "import sys \n",
    "\n",
    "print(tf.__version__)\n",
    "print(sys.version)"
   ]
  },
  {
   "cell_type": "code",
   "execution_count": 2,
   "id": "a5c45b31-e4d7-435f-bede-36ae3fcb3360",
   "metadata": {},
   "outputs": [],
   "source": [
    "import numpy as np\n",
    "import matplotlib.pyplot as plt\n",
    "\n",
    "\n",
    "# use seaborn plotting defaults\n",
    "import seaborn as sns; sns.set()\n",
    "from sklearn.metrics import confusion_matrix\n",
    "from sklearn.metrics import classification_report\n",
    "import matplotlib.image as mpimg\n",
    "from PIL import Image\n",
    "from PIL import ImageFilter\n"
   ]
  },
  {
   "cell_type": "code",
   "execution_count": 24,
   "id": "479280ac-df44-490b-8c1b-33f7bd5fed38",
   "metadata": {},
   "outputs": [],
   "source": [
    "with open('./resnet101_transfer_learning/tflite_res101_best', 'rb') as f:\n",
    "    tflite_best_resnet_instance = f.read()\n",
    "interpreter_resnet_best = tf.lite.Interpreter(model_content=tflite_best_resnet_instance)\n",
    "interpreter_resnet_best.allocate_tensors()\n",
    "resnet_input_index = interpreter_resnet_best.get_input_details()[0]['index']\n",
    "resnet_output_index = interpreter_resnet_best.get_output_details()[0]['index']"
   ]
  },
  {
   "cell_type": "code",
   "execution_count": 43,
   "id": "d9c4cba0-5ce4-4693-8620-d68f47ef47e6",
   "metadata": {},
   "outputs": [],
   "source": [
    "with open('./dense121_transfer_learning/tflite_dense121_best', 'rb') as f:\n",
    "    tflite_best_dense_instance = f.read()\n",
    "interpreter_dense_best = tf.lite.Interpreter(model_content=tflite_best_dense_instance)\n",
    "interpreter_dense_best.allocate_tensors()\n",
    "dense_input_index = interpreter_dense_best.get_input_details()[0]['index']\n",
    "dense_output_index = interpreter_dense_best.get_output_details()[0]['index']"
   ]
  },
  {
   "cell_type": "code",
   "execution_count": 45,
   "id": "2ad26181-014f-4642-9cd8-2ce3c2005836",
   "metadata": {},
   "outputs": [],
   "source": [
    "with open('./custom_model/tflite_custom_best', 'rb') as f:\n",
    "    tflite_best_custom_instance = f.read()\n",
    "interpreter_custom_best = tf.lite.Interpreter(model_content=tflite_best_custom_instance)\n",
    "interpreter_custom_best.allocate_tensors()\n",
    "custom_input_index = interpreter_custom_best.get_input_details()[0]['index']\n",
    "custom_output_index = interpreter_custom_best.get_output_details()[0]['index'] "
   ]
  },
  {
   "cell_type": "code",
   "execution_count": 18,
   "id": "f691762c-f91f-444a-9bf1-8a6299d47bb7",
   "metadata": {},
   "outputs": [],
   "source": [
    "N_PATH = '/bigdata3/OCT2017/all_data/NORMAL/'\n",
    "DRU_PATH = '/bigdata3/OCT2017/all_data/DRUSEN/'\n",
    "DME_PATH = '/bigdata3/OCT2017/all_data/DME/'\n",
    "C_PATH = '/bigdata3/OCT2017/all_data/CNV/'"
   ]
  },
  {
   "cell_type": "code",
   "execution_count": 19,
   "id": "948ceeda-ffd2-4fac-8b61-efd6a58b3a52",
   "metadata": {},
   "outputs": [],
   "source": [
    "normals = os.listdir(N_PATH)\n",
    "drusen = os.listdir(DRU_PATH)\n",
    "dme = os.listdir(DME_PATH)\n",
    "cnv = os.listdir(C_PATH)"
   ]
  },
  {
   "cell_type": "code",
   "execution_count": 20,
   "id": "a873be4e-3630-4c23-ac26-59fa55ae2464",
   "metadata": {},
   "outputs": [],
   "source": [
    "types = ['CNV', 'DME', 'DRUSEN', 'NORMAL'] \n"
   ]
  },
  {
   "cell_type": "code",
   "execution_count": null,
   "id": "003ea6dc-130b-44c7-ac7b-9189280dd65b",
   "metadata": {},
   "outputs": [],
   "source": []
  },
  {
   "cell_type": "code",
   "execution_count": 36,
   "id": "9134fd4c-578c-4c50-99a0-cfb7e3175524",
   "metadata": {},
   "outputs": [],
   "source": [
    "def predict(base_dir, source_list, interpreter, input_index, output_index):\n",
    "    image_path = os.path.join(base_dir, random.choice(source_list))\n",
    "    print(f'testing image: {image_path}')\n",
    "    ni = tf.io.read_file(image_path)\n",
    "    ni = tf.io.decode_jpeg(ni, channels=3)\n",
    "    fni = tf.image.resize(\n",
    "            ni,\n",
    "            (256, 256),\n",
    "            # method=ResizeMethod.BILINEAR,\n",
    "            preserve_aspect_ratio=False,\n",
    "            antialias=False,\n",
    "            name=None\n",
    "        )\n",
    "    fni = np.float32(fni.numpy()/255.)\n",
    "    fni = fni.reshape((1, 256, 256, 3))\n",
    "    interpreter.set_tensor(input_index, fni)\n",
    "    interpreter.invoke()\n",
    "    result = interpreter.get_tensor(output_index)\n",
    "    print(result)\n",
    "    amax = np.argmax(result)\n",
    "    print(amax)\n",
    "    percent = result[0][amax] * 100\n",
    "    image_type = types[amax]\n",
    "    print(f'type: {image_type} confidence: {percent:.2f}%')\n",
    "                    "
   ]
  },
  {
   "cell_type": "code",
   "execution_count": 41,
   "id": "c6eb299a-b8b9-4fa9-a69e-6b923ac8ab41",
   "metadata": {},
   "outputs": [
    {
     "name": "stdout",
     "output_type": "stream",
     "text": [
      "testing image: /bigdata3/OCT2017/all_data/CNV/CNV-6294785-133.jpeg\n",
      "[[9.9921298e-01 7.7910628e-04 5.8956255e-07 7.3073893e-06]]\n",
      "0\n",
      "type: CNV confidence: 99.92%\n"
     ]
    }
   ],
   "source": [
    "predict(C_PATH, cnv, interpreter_resnet_best, resnet_input_index, resnet_output_index)"
   ]
  },
  {
   "cell_type": "code",
   "execution_count": 44,
   "id": "e2e8f6ff-897e-4899-a9f1-912a6f5fbff3",
   "metadata": {},
   "outputs": [
    {
     "name": "stdout",
     "output_type": "stream",
     "text": [
      "testing image: /bigdata3/OCT2017/all_data/DRUSEN/DRUSEN-3281144-11.jpeg\n",
      "[[6.9978363e-03 3.0431426e-03 9.8990250e-01 5.6502427e-05]]\n",
      "2\n",
      "type: DRUSEN confidence: 98.99%\n"
     ]
    }
   ],
   "source": [
    "predict(DRU_PATH, drusen, interpreter_dense_best, dense_input_index, dense_output_index)"
   ]
  },
  {
   "cell_type": "code",
   "execution_count": 47,
   "id": "7ef17508-28e8-44d9-b115-22a4913345f2",
   "metadata": {},
   "outputs": [
    {
     "name": "stdout",
     "output_type": "stream",
     "text": [
      "testing image: /bigdata3/OCT2017/all_data/DME/DME-7793366-1.jpeg\n",
      "[[2.1688447e-04 9.9973983e-01 3.3325272e-05 1.0053717e-05]]\n",
      "1\n",
      "type: DME confidence: 99.97%\n"
     ]
    }
   ],
   "source": [
    "predict(DME_PATH, dme, interpreter_custom_best, custom_input_index, custom_output_index)"
   ]
  },
  {
   "cell_type": "code",
   "execution_count": null,
   "id": "272b4c21-4cae-475c-a08e-691240dbcae8",
   "metadata": {},
   "outputs": [],
   "source": []
  },
  {
   "cell_type": "code",
   "execution_count": null,
   "id": "cb22e2f0-0188-4f67-85c1-6088ff7bbae9",
   "metadata": {},
   "outputs": [],
   "source": [
    "\n"
   ]
  },
  {
   "cell_type": "code",
   "execution_count": null,
   "id": "bf7805c6-dd45-40f8-b466-e052bc7f4bba",
   "metadata": {},
   "outputs": [],
   "source": []
  },
  {
   "cell_type": "code",
   "execution_count": null,
   "id": "3dfc7c85-7a9f-4659-9030-3285fc6879bc",
   "metadata": {},
   "outputs": [],
   "source": [
    "\n",
    "\n",
    "\n"
   ]
  },
  {
   "cell_type": "code",
   "execution_count": null,
   "id": "3df3aaee-dcaa-4ba1-ba7e-b8e8c4e22a65",
   "metadata": {},
   "outputs": [],
   "source": []
  },
  {
   "cell_type": "code",
   "execution_count": null,
   "id": "b819f2a1-bc9f-45c8-b27b-500ba5a34a6a",
   "metadata": {},
   "outputs": [],
   "source": []
  },
  {
   "cell_type": "code",
   "execution_count": null,
   "id": "31026556-64c0-4319-a24d-0c3503367c6c",
   "metadata": {},
   "outputs": [],
   "source": []
  },
  {
   "cell_type": "code",
   "execution_count": null,
   "id": "869e7cf0-b5dc-444e-82b3-69fcec649c6f",
   "metadata": {},
   "outputs": [],
   "source": []
  }
 ],
 "metadata": {
  "kernelspec": {
   "display_name": "Python 3 (ipykernel)",
   "language": "python",
   "name": "python3"
  },
  "language_info": {
   "codemirror_mode": {
    "name": "ipython",
    "version": 3
   },
   "file_extension": ".py",
   "mimetype": "text/x-python",
   "name": "python",
   "nbconvert_exporter": "python",
   "pygments_lexer": "ipython3",
   "version": "3.10.4"
  }
 },
 "nbformat": 4,
 "nbformat_minor": 5
}
