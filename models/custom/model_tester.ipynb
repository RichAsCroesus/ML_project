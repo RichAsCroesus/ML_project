{
 "cells": [
  {
   "cell_type": "code",
   "execution_count": 1,
   "id": "8c7f47b0-064c-49ba-983b-6b8badb9f831",
   "metadata": {},
   "outputs": [
    {
     "name": "stdout",
     "output_type": "stream",
     "text": [
      "2.8.0\n",
      "3.10.4 (main, Mar 25 2022, 00:00:00) [GCC 11.2.1 20220127 (Red Hat 11.2.1-9)]\n"
     ]
    }
   ],
   "source": [
    "import os\n",
    "import zipfile\n",
    "import random\n",
    "import tensorflow as tf\n",
    "import keras \n",
    "\n",
    "\n",
    "import random\n",
    "import sys \n",
    "\n",
    "print(tf.__version__)\n",
    "print(sys.version)"
   ]
  },
  {
   "cell_type": "code",
   "execution_count": 2,
   "id": "a5c45b31-e4d7-435f-bede-36ae3fcb3360",
   "metadata": {},
   "outputs": [],
   "source": [
    "import numpy as np\n",
    "import matplotlib.pyplot as plt\n",
    "\n",
    "\n",
    "# use seaborn plotting defaults\n",
    "import seaborn as sns; sns.set()\n",
    "from sklearn.metrics import confusion_matrix\n",
    "from sklearn.metrics import classification_report\n",
    "import matplotlib.image as mpimg\n",
    "from PIL import Image\n",
    "from PIL import ImageFilter\n"
   ]
  },
  {
   "cell_type": "code",
   "execution_count": null,
   "id": "479280ac-df44-490b-8c1b-33f7bd5fed38",
   "metadata": {},
   "outputs": [],
   "source": []
  },
  {
   "cell_type": "code",
   "execution_count": 3,
   "id": "d9c4cba0-5ce4-4693-8620-d68f47ef47e6",
   "metadata": {},
   "outputs": [
    {
     "name": "stderr",
     "output_type": "stream",
     "text": [
      "2022-05-18 14:08:40.596498: I tensorflow/stream_executor/cuda/cuda_gpu_executor.cc:936] successful NUMA node read from SysFS had negative value (-1), but there must be at least one NUMA node, so returning NUMA node zero\n",
      "2022-05-18 14:08:40.637743: I tensorflow/stream_executor/cuda/cuda_gpu_executor.cc:936] successful NUMA node read from SysFS had negative value (-1), but there must be at least one NUMA node, so returning NUMA node zero\n",
      "2022-05-18 14:08:40.637999: I tensorflow/stream_executor/cuda/cuda_gpu_executor.cc:936] successful NUMA node read from SysFS had negative value (-1), but there must be at least one NUMA node, so returning NUMA node zero\n",
      "2022-05-18 14:08:40.638729: I tensorflow/core/platform/cpu_feature_guard.cc:151] This TensorFlow binary is optimized with oneAPI Deep Neural Network Library (oneDNN) to use the following CPU instructions in performance-critical operations:  AVX2 FMA\n",
      "To enable them in other operations, rebuild TensorFlow with the appropriate compiler flags.\n",
      "2022-05-18 14:08:40.640045: I tensorflow/stream_executor/cuda/cuda_gpu_executor.cc:936] successful NUMA node read from SysFS had negative value (-1), but there must be at least one NUMA node, so returning NUMA node zero\n",
      "2022-05-18 14:08:40.640273: I tensorflow/stream_executor/cuda/cuda_gpu_executor.cc:936] successful NUMA node read from SysFS had negative value (-1), but there must be at least one NUMA node, so returning NUMA node zero\n",
      "2022-05-18 14:08:40.640484: I tensorflow/stream_executor/cuda/cuda_gpu_executor.cc:936] successful NUMA node read from SysFS had negative value (-1), but there must be at least one NUMA node, so returning NUMA node zero\n",
      "2022-05-18 14:08:41.109273: I tensorflow/stream_executor/cuda/cuda_gpu_executor.cc:936] successful NUMA node read from SysFS had negative value (-1), but there must be at least one NUMA node, so returning NUMA node zero\n",
      "2022-05-18 14:08:41.109491: I tensorflow/stream_executor/cuda/cuda_gpu_executor.cc:936] successful NUMA node read from SysFS had negative value (-1), but there must be at least one NUMA node, so returning NUMA node zero\n",
      "2022-05-18 14:08:41.109670: I tensorflow/stream_executor/cuda/cuda_gpu_executor.cc:936] successful NUMA node read from SysFS had negative value (-1), but there must be at least one NUMA node, so returning NUMA node zero\n",
      "2022-05-18 14:08:41.109818: I tensorflow/core/common_runtime/gpu/gpu_device.cc:1525] Created device /job:localhost/replica:0/task:0/device:GPU:0 with 4466 MB memory:  -> device: 0, name: NVIDIA GeForce RTX 3060 Ti, pci bus id: 0000:09:00.0, compute capability: 8.6\n",
      "2022-05-18 14:08:43.605208: W tensorflow/compiler/mlir/lite/python/tf_tfl_flatbuffer_helpers.cc:357] Ignored output_format.\n",
      "2022-05-18 14:08:43.605245: W tensorflow/compiler/mlir/lite/python/tf_tfl_flatbuffer_helpers.cc:360] Ignored drop_control_dependency.\n",
      "2022-05-18 14:08:43.606272: I tensorflow/cc/saved_model/reader.cc:43] Reading SavedModel from: ./custom_best\n",
      "2022-05-18 14:08:43.616431: I tensorflow/cc/saved_model/reader.cc:78] Reading meta graph with tags { serve }\n",
      "2022-05-18 14:08:43.616466: I tensorflow/cc/saved_model/reader.cc:119] Reading SavedModel debug info (if present) from: ./custom_best\n",
      "2022-05-18 14:08:43.640557: I tensorflow/cc/saved_model/loader.cc:228] Restoring SavedModel bundle.\n",
      "2022-05-18 14:08:43.936346: I tensorflow/cc/saved_model/loader.cc:212] Running initialization op on SavedModel bundle at path: ./custom_best\n",
      "2022-05-18 14:08:43.980775: I tensorflow/cc/saved_model/loader.cc:301] SavedModel load for tags { serve }; Status: success: OK. Took 374507 microseconds.\n",
      "2022-05-18 14:08:44.048335: I tensorflow/compiler/mlir/tensorflow/utils/dump_mlir_util.cc:237] disabling MLIR crash reproducer, set env var `MLIR_CRASH_REPRODUCER_DIRECTORY` to enable.\n",
      "WARNING:absl:Buffer deduplication procedure will be skipped when flatbuffer library is not properly loaded\n"
     ]
    }
   ],
   "source": [
    "loaded = tf.saved_model.load('./custom_best') \n",
    "converter = tf.lite.TFLiteConverter.from_saved_model(\"./custom_best\")\n",
    "tflite_best_custom = \"./tflite_custom_best\"\n",
    "with open(tflite_best_custom, \"wb\") as f:\n",
    "          f.write(converter.convert())"
   ]
  },
  {
   "cell_type": "code",
   "execution_count": 4,
   "id": "2ad26181-014f-4642-9cd8-2ce3c2005836",
   "metadata": {},
   "outputs": [],
   "source": [
    "with open(tflite_best_custom, 'rb') as f:\n",
    "    tflite_best_custom_instance = f.read()\n",
    "    "
   ]
  },
  {
   "cell_type": "code",
   "execution_count": 5,
   "id": "f691762c-f91f-444a-9bf1-8a6299d47bb7",
   "metadata": {},
   "outputs": [
    {
     "name": "stderr",
     "output_type": "stream",
     "text": [
      "INFO: Created TensorFlow Lite XNNPACK delegate for CPU.\n"
     ]
    }
   ],
   "source": [
    "interpreter_custom_best = tf.lite.Interpreter(model_content=tflite_best_custom_instance)\n",
    "interpreter_custom_best.allocate_tensors()\n",
    "input_index = interpreter_custom_best.get_input_details()[0]['index']\n",
    "output_index = interpreter_custom_best.get_output_details()[0]['index']"
   ]
  },
  {
   "cell_type": "code",
   "execution_count": null,
   "id": "948ceeda-ffd2-4fac-8b61-efd6a58b3a52",
   "metadata": {},
   "outputs": [],
   "source": [
    "normals = os.listdir('/bigdata3/OCT2017/all_data/NORMAL/')\n",
    "drusen = os.listdir('/bigdata3/OCT2017/all_data/DRUSEN//')\n",
    "dme = os.listdir('/bigdata3/OCT2017/all_data/DME/')\n",
    "cnv = os.listdir('/bigdata3/OCT2017/all_data/CNV/')"
   ]
  },
  {
   "cell_type": "code",
   "execution_count": 7,
   "id": "a873be4e-3630-4c23-ac26-59fa55ae2464",
   "metadata": {},
   "outputs": [],
   "source": [
    "types = ['CNV', 'DME', 'DRUSEN', 'NORMAL'] \n"
   ]
  },
  {
   "cell_type": "code",
   "execution_count": null,
   "id": "003ea6dc-130b-44c7-ac7b-9189280dd65b",
   "metadata": {},
   "outputs": [],
   "source": []
  },
  {
   "cell_type": "code",
   "execution_count": null,
   "id": "9134fd4c-578c-4c50-99a0-cfb7e3175524",
   "metadata": {},
   "outputs": [],
   "source": [
    "\n",
    "                    "
   ]
  },
  {
   "cell_type": "code",
   "execution_count": 25,
   "id": "7f55ddcf-e58e-40e1-bc03-cd56ff6f15d8",
   "metadata": {},
   "outputs": [
    {
     "name": "stdout",
     "output_type": "stream",
     "text": [
      "testing image /bigdata3/OCT2017/all_data/NORMAL/NORMAL-6322340-1.jpeg\n",
      "[[5.9025217e-05 2.7097864e-02 5.9611993e-03 9.6688199e-01]]\n",
      "3\n",
      "type: NORMAL confidence: 96.68819904327393%\n"
     ]
    }
   ],
   "source": [
    "normal_image_path = os.path.join('/bigdata3/OCT2017/all_data/NORMAL/', random.choice(normals))\n",
    "\n",
    "print(f'testing image {normal_image_path}')\n",
    "normal_image = tf.io.read_file(normal_image_path)\n",
    "normal_image = tf.io.decode_jpeg(normal_image, channels=3)\n",
    "fni = tf.image.resize(\n",
    "    normal_image,\n",
    "    (256, 256),\n",
    "    # method=ResizeMethod.BILINEAR,\n",
    "    preserve_aspect_ratio=False,\n",
    "    antialias=False,\n",
    "    name=None\n",
    ")\n",
    "fni = np.float32(fni.numpy()/255.)\n",
    "fni = fni.reshape((1, 256, 256, 3))\n",
    "interpreter_custom_best.set_tensor(input_index, fni)\n",
    "interpreter_custom_best.invoke()\n",
    "result = interpreter_custom_best.get_tensor(output_index)\n",
    "print(result)\n",
    "amax = np.argmax(result)\n",
    "print(amax)\n",
    "percent = result[0][amax] * 100\n",
    "image_type = types[amax]\n",
    "print(f'type: {image_type} confidence: {percent}%')"
   ]
  },
  {
   "cell_type": "code",
   "execution_count": 29,
   "id": "aad1cd23-9e2e-4c87-bc3d-ecd8ca1163e2",
   "metadata": {},
   "outputs": [
    {
     "name": "stdout",
     "output_type": "stream",
     "text": [
      "testing image /bigdata3/OCT2017/all_data/DRUSEN/DRUSEN-7457346-2.jpeg\n",
      "[[4.0439041e-05 1.4724962e-04 9.7607893e-01 2.3733335e-02]]\n",
      "2\n",
      "type: DRUSEN confidence: 97.60789275169373%\n"
     ]
    }
   ],
   "source": [
    "drusen_image_path = os.path.join('/bigdata3/OCT2017/all_data/DRUSEN/', random.choice(drusen))\n",
    "\n",
    "print(f'testing image {drusen_image_path}')\n",
    "drusen_image = tf.io.read_file(drusen_image_path)\n",
    "drusen_image = tf.io.decode_jpeg(drusen_image, channels=3)\n",
    "fni = tf.image.resize(\n",
    "    drusen_image,\n",
    "    (256, 256),\n",
    "    # method=ResizeMethod.BILINEAR,\n",
    "    preserve_aspect_ratio=False,\n",
    "    antialias=False,\n",
    "    name=None\n",
    ")\n",
    "fni = np.float32(fni.numpy()/255.)\n",
    "fni = fni.reshape((1, 256, 256, 3))\n",
    "interpreter_custom_best.set_tensor(input_index, fni)\n",
    "interpreter_custom_best.invoke()\n",
    "result = interpreter_custom_best.get_tensor(output_index)\n",
    "print(result)\n",
    "amax = np.argmax(result)\n",
    "print(amax)\n",
    "percent = result[0][amax] * 100\n",
    "image_type = types[amax]\n",
    "print(f'type: {image_type} confidence: {percent}%')"
   ]
  },
  {
   "cell_type": "code",
   "execution_count": null,
   "id": "cb22e2f0-0188-4f67-85c1-6088ff7bbae9",
   "metadata": {},
   "outputs": [],
   "source": [
    "\n"
   ]
  },
  {
   "cell_type": "code",
   "execution_count": null,
   "id": "bf7805c6-dd45-40f8-b466-e052bc7f4bba",
   "metadata": {},
   "outputs": [],
   "source": []
  },
  {
   "cell_type": "code",
   "execution_count": null,
   "id": "3dfc7c85-7a9f-4659-9030-3285fc6879bc",
   "metadata": {},
   "outputs": [],
   "source": [
    "\n",
    "\n",
    "\n"
   ]
  },
  {
   "cell_type": "code",
   "execution_count": null,
   "id": "3df3aaee-dcaa-4ba1-ba7e-b8e8c4e22a65",
   "metadata": {},
   "outputs": [],
   "source": []
  },
  {
   "cell_type": "code",
   "execution_count": null,
   "id": "b819f2a1-bc9f-45c8-b27b-500ba5a34a6a",
   "metadata": {},
   "outputs": [],
   "source": []
  },
  {
   "cell_type": "code",
   "execution_count": null,
   "id": "31026556-64c0-4319-a24d-0c3503367c6c",
   "metadata": {},
   "outputs": [],
   "source": []
  },
  {
   "cell_type": "code",
   "execution_count": null,
   "id": "869e7cf0-b5dc-444e-82b3-69fcec649c6f",
   "metadata": {},
   "outputs": [],
   "source": []
  }
 ],
 "metadata": {
  "kernelspec": {
   "display_name": "Python 3 (ipykernel)",
   "language": "python",
   "name": "python3"
  },
  "language_info": {
   "codemirror_mode": {
    "name": "ipython",
    "version": 3
   },
   "file_extension": ".py",
   "mimetype": "text/x-python",
   "name": "python",
   "nbconvert_exporter": "python",
   "pygments_lexer": "ipython3",
   "version": "3.10.4"
  }
 },
 "nbformat": 4,
 "nbformat_minor": 5
}
