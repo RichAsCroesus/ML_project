{
 "cells": [
  {
   "cell_type": "code",
   "execution_count": 1,
   "id": "35d76af6-bc20-4022-9af7-2ea3c1cb9e16",
   "metadata": {},
   "outputs": [],
   "source": [
    "import os\n",
    "# os.environ[\"CUDA_VISIBLE_DEVICES\"] = \"-1\"\n"
   ]
  },
  {
   "cell_type": "code",
   "execution_count": 2,
   "id": "c5c9203c-f5d9-4525-bbc8-e7e8fa7f3711",
   "metadata": {},
   "outputs": [
    {
     "name": "stdout",
     "output_type": "stream",
     "text": [
      "/usr/local/cuda-11.5/lib64\n"
     ]
    }
   ],
   "source": [
    "print(os.environ[\"LD_LIBRARY_PATH\"])"
   ]
  },
  {
   "cell_type": "code",
   "execution_count": 3,
   "id": "f53c66b1-cb6e-437e-ba01-be3f7599271f",
   "metadata": {
    "colab": {
     "base_uri": "https://localhost:8080/"
    },
    "id": "f53c66b1-cb6e-437e-ba01-be3f7599271f",
    "outputId": "5b5d8323-7808-4e29-92b4-ad2f33017574"
   },
   "outputs": [
    {
     "name": "stdout",
     "output_type": "stream",
     "text": [
      "2.8.0\n",
      "3.10.4 (main, Mar 25 2022, 00:00:00) [GCC 11.2.1 20220127 (Red Hat 11.2.1-9)]\n"
     ]
    }
   ],
   "source": [
    "\n",
    "import zipfile\n",
    "import random\n",
    "import tensorflow as tf\n",
    "import keras \n",
    "from keras.optimizer_v2 import (\n",
    "    adadelta,\n",
    "    adagrad,\n",
    "    adamax,\n",
    "    adam,\n",
    "    learning_rate_schedule,\n",
    "    gradient_descent,\n",
    "    ftrl,\n",
    "    )\n",
    "from keras.preprocessing.image import ImageDataGenerator\n",
    "from keras.layers import Conv2D, MaxPooling2D, Flatten, Dense, Dropout\n",
    "from keras.regularizers import l2, l1_l2\n",
    "from keras.constraints import MaxNorm\n",
    "from keras.callbacks import Callback, EarlyStopping, LearningRateScheduler\n",
    "\n",
    "import random\n",
    "import sys \n",
    "\n",
    "print(tf.__version__)\n",
    "print(sys.version)"
   ]
  },
  {
   "cell_type": "code",
   "execution_count": 4,
   "id": "3cd2ae0a-748a-455b-be40-9ce3ef2bab44",
   "metadata": {},
   "outputs": [],
   "source": [
    "from keras.models import Model"
   ]
  },
  {
   "cell_type": "code",
   "execution_count": 5,
   "id": "a990dfa8-cd07-44b6-808f-662fa8e1e7ae",
   "metadata": {
    "id": "a990dfa8-cd07-44b6-808f-662fa8e1e7ae"
   },
   "outputs": [],
   "source": [
    "import numpy as np\n",
    "import matplotlib.pyplot as plt\n",
    "import inspect \n",
    "import time \n",
    "import datetime\n",
    "import cv2\n",
    "\n",
    "# use seaborn plotting defaults\n",
    "import seaborn as sns; sns.set()\n",
    "from sklearn.metrics import confusion_matrix\n",
    "from sklearn.metrics import classification_report\n",
    "import matplotlib.image as mpimg\n",
    "from PIL import Image\n",
    "from PIL import ImageFilter"
   ]
  },
  {
   "cell_type": "code",
   "execution_count": 6,
   "id": "f9c53030-e824-447c-9234-c1fe6155cf76",
   "metadata": {
    "id": "f9c53030-e824-447c-9234-c1fe6155cf76"
   },
   "outputs": [],
   "source": [
    "import pandas as pd "
   ]
  },
  {
   "cell_type": "code",
   "execution_count": 7,
   "id": "r7rQ6VhsH2AB",
   "metadata": {
    "id": "r7rQ6VhsH2AB"
   },
   "outputs": [],
   "source": [
    "DATA_PATH = './OCT2017/all_data'"
   ]
  },
  {
   "cell_type": "code",
   "execution_count": 8,
   "id": "QbJrgWudP1r2",
   "metadata": {
    "id": "QbJrgWudP1r2"
   },
   "outputs": [],
   "source": [
    "data_listing = os.listdir(DATA_PATH)"
   ]
  },
  {
   "cell_type": "code",
   "execution_count": 9,
   "id": "_p-5IMwzEUkO",
   "metadata": {
    "colab": {
     "base_uri": "https://localhost:8080/"
    },
    "id": "_p-5IMwzEUkO",
    "outputId": "3bfb119e-2ac8-47f6-9729-d2a9cb812c86"
   },
   "outputs": [
    {
     "name": "stdout",
     "output_type": "stream",
     "text": [
      "['NORMAL', 'CNV', 'DME', 'DRUSEN']\n"
     ]
    }
   ],
   "source": [
    "print(data_listing)"
   ]
  },
  {
   "cell_type": "code",
   "execution_count": 10,
   "id": "lbZXZCkOFtjp",
   "metadata": {
    "id": "lbZXZCkOFtjp"
   },
   "outputs": [],
   "source": [
    "train_dir= DATA_PATH\n",
    "CNV_PATH = os.path.join(train_dir, 'CNV')\n",
    "DME_PATH = os.path.join(train_dir, 'DME')\n",
    "NORMAL_PATH = os.path.join(train_dir, 'NORMAL')\n",
    "DRUSEN_PATH = os.path.join(train_dir, 'DRUSEN')"
   ]
  },
  {
   "cell_type": "code",
   "execution_count": 11,
   "id": "MyanRpu2QNW-",
   "metadata": {
    "id": "MyanRpu2QNW-"
   },
   "outputs": [],
   "source": [
    "cnv = os.listdir(CNV_PATH)\n",
    "dme = os.listdir(DME_PATH)\n",
    "normal = os.listdir(NORMAL_PATH)\n",
    "drusen = os.listdir(DRUSEN_PATH)"
   ]
  },
  {
   "cell_type": "code",
   "execution_count": 12,
   "id": "lSesf-HUFQU7",
   "metadata": {
    "colab": {
     "base_uri": "https://localhost:8080/"
    },
    "id": "lSesf-HUFQU7",
    "outputId": "575bdfa0-ff69-490f-8d1f-ff397edeca57"
   },
   "outputs": [
    {
     "name": "stdout",
     "output_type": "stream",
     "text": [
      "37205\n",
      "11348\n",
      "26315\n",
      "8616\n"
     ]
    }
   ],
   "source": [
    "print(len(cnv))\n",
    "print(len(dme))\n",
    "print(len(normal))\n",
    "print(len(drusen))"
   ]
  },
  {
   "cell_type": "code",
   "execution_count": 13,
   "id": "639f45fc-3c0d-424f-bd1b-2ede0c885669",
   "metadata": {
    "id": "639f45fc-3c0d-424f-bd1b-2ede0c885669"
   },
   "outputs": [],
   "source": [
    "def plot_grid(path_prefix, images_list, ncols=4, nrows=4, grey=False):\n",
    "    import os\n",
    "    example_test_images = random.sample(images_list, ncols*nrows)\n",
    "    fig = plt.gcf()\n",
    "    fig.set_size_inches(15, 15)\n",
    "\n",
    "    for i, img_path in enumerate(example_test_images):\n",
    "                   \n",
    "        sp = plt.subplot(nrows, ncols, i+1)\n",
    "        sp.axis('Off')\n",
    "        img = mpimg.imread(os.path.join(path_prefix, img_path))\n",
    "        if grey:\n",
    "            plt.imshow(img, cmap=plt.get_cmap('gray'))\n",
    "        else:\n",
    "            plt.imshow(img)\n",
    "    plt.show()"
   ]
  },
  {
   "cell_type": "code",
   "execution_count": 18,
   "id": "a6a9ac73-892d-4045-9186-b8f117f05e79",
   "metadata": {
    "id": "a6a9ac73-892d-4045-9186-b8f117f05e79"
   },
   "outputs": [],
   "source": [
    "def train_nn_model(optimizer):\n",
    "\n",
    "\n",
    "    # regu = tf.keras.regularizers.l2(1e-4)\n",
    "    regu = tf.keras.regularizers.l1_l2(5e-8, 5e-8)\n",
    "    model = tf.keras.models.Sequential([\n",
    "        tf.keras.layers.Input(shape=(256, 256, 3)),\n",
    "        tf.keras.layers.Conv2D(32, (3,3), strides=1, padding='same', activation='leaky_relu', kernel_regularizer=regu),    \n",
    "        tf.keras.layers.Conv2D(32, (3,3), strides=1, padding='same', activation='leaky_relu', kernel_regularizer=regu), \n",
    "        # tf.keras.layers.Conv2D(32,(3,3), strides=1, padding='same', activation='leaky_relu', kernel_regularizer=regu),  \n",
    "        # tf.keras.layers.Conv2D(32,(3,3), strides=1, padding='same', activation='leaky_relu', kernel_regularizer=regu),\n",
    "        # tf.keras.layers.Conv2D(64, (3,3), strides=1, padding='same', activation='leaky_relu', input_shape=(96, 96, 3)),  \n",
    "        # tf.keras.layers.Conv2D(64, (3,3), strides=1, padding='same', activation='leaky_relu', kernel_regularizer=regu),\n",
    "        # tf.keras.layers.MaxPooling2D(2,2),\n",
    "        \n",
    "  \n",
    "        #tf.keras.layers.Conv2D(64 , (3,3), strides=1, padding='same', activation='leaky_relu', kernel_regularizer=regu),\n",
    "        tf.keras.layers.MaxPooling2D(2,2), \n",
    "        # tf.keras.layers.BatchNormalization(),\n",
    "        \n",
    "        tf.keras.layers.Conv2D(64, (3,3), strides=1, padding='same', activation='leaky_relu', kernel_regularizer=regu),  \n",
    "        tf.keras.layers.Conv2D(64, (3,3), strides=1, padding='same', activation='leaky_relu', kernel_regularizer=regu),  \n",
    "        # tf.keras.layers.Conv2D(128, (3,3), strides=1, padding='same', activation='leaky_relu', kernel_regularizer=regu),  \n",
    "        # tf.keras.layers.Conv2D(128, (3,3), strides=1, padding='same', activation='leaky_relu', kernel_regularizer=regu),  \n",
    "        tf.keras.layers.MaxPooling2D(2,2), \n",
    "        \n",
    "        tf.keras.layers.Conv2D(128, (3,3), strides=1, padding='same', activation='leaky_relu', kernel_regularizer=regu),    \n",
    "        tf.keras.layers.Conv2D(128, (3,3), strides=1, padding='same', activation='leaky_relu', kernel_regularizer=regu),\n",
    "        tf.keras.layers.MaxPooling2D(2,2, padding='same'),\n",
    "        # tf.keras.layers.BatchNormalization(),\n",
    "        \n",
    "        # tf.keras.layers.Conv2D(256, (3,3), strides=1, padding='same', activation='leaky_relu', kernel_regularizer=regu),     \n",
    "        # tf.keras.layers.Conv2D(32, (3,3), strides=1, padding='same', activation='leaky_relu', kernel_regularizer=regu),  \n",
    "        # tf.keras.layers.Conv2D(32 , (3,3), strides=1, padding='same', activation='leaky_relu', kernel_regularizer=regu),\n",
    "        tf.keras.layers.Conv2D(64, (3,3), strides=1, padding='same', activation='leaky_relu', kernel_regularizer=regu),  \n",
    "        tf.keras.layers.Conv2D(64, (3,3), strides=1, padding='same', activation='leaky_relu', kernel_regularizer=regu),\n",
    "        tf.keras.layers.MaxPooling2D((2,2), padding='same'), \n",
    "        # tf.keras.layers.BatchNormalization(),\n",
    "        tf.keras.layers.Conv2D(256, (3,3), strides=1, padding='same', activation='leaky_relu', kernel_regularizer=regu),  \n",
    "        tf.keras.layers.Conv2D(256, (3,3), strides=1, padding='same', activation='leaky_relu', kernel_regularizer=regu),\n",
    "        # tf.keras.layers.MaxPooling2D((2,2), padding='same'), \n",
    "        tf.keras.layers.Flatten(),\n",
    "        tf.keras.layers.Dense(256, activation='relu', kernel_regularizer=regu),\n",
    "        # tf.keras.layers.Dense(100, activation='relu', kernel_regularizer=regu),\n",
    "        tf.keras.layers.Dense(4, activation='softmax')])\n",
    "        \n",
    "    model.compile(loss='sparse_categorical_crossentropy', optimizer=optimizer, metrics=['acc'])\n",
    "    print(model)\n",
    " \n",
    "    # model fitting\n",
    "    return model"
   ]
  },
  {
   "cell_type": "code",
   "execution_count": 19,
   "id": "VO7jyxAlILec",
   "metadata": {
    "colab": {
     "base_uri": "https://localhost:8080/"
    },
    "id": "VO7jyxAlILec",
    "outputId": "af29e50c-e71f-48f3-e164-38f6ade72330"
   },
   "outputs": [
    {
     "name": "stdout",
     "output_type": "stream",
     "text": [
      "Found 66788 images belonging to 4 classes.\n",
      "Found 16696 images belonging to 4 classes.\n"
     ]
    }
   ],
   "source": [
    "epochs=40\n",
    "batch_size=4\n",
    "\n",
    "train_datagen = ImageDataGenerator(rescale=1./255., data_format=\"channels_last\", \n",
    "                                   validation_split=0.20,\n",
    "                                   horizontal_flip=True,\n",
    "                                   rotation_range=37,\n",
    "                                   vertical_flip=True)\n",
    "\n",
    "train_generator = train_datagen.flow_from_directory(train_dir,\n",
    "                                                    # target_size=(256, 256),\n",
    "                                                    batch_size=batch_size,\n",
    "                                                    subset='training',\n",
    "                                                    class_mode='binary',\n",
    "                                                    color_mode='rgb')\n",
    "\n",
    "\n",
    "valid_generator = train_datagen.flow_from_directory(train_dir,\n",
    "                                                    # target_size=(96, 96), \n",
    "                                                    batch_size=batch_size,\n",
    "                                                    shuffle=False,\n",
    "                                                    subset='validation',\n",
    "                                                    class_mode='binary',\n",
    "                                                    color_mode='rgb')\n",
    "\n",
    "\n",
    "steps=len(train_generator.filenames)//batch_size \n",
    "\n",
    "best_path='./best_val_acc_'+str(int(time.time()))\n",
    "model_checkpoint_callback = keras.callbacks.ModelCheckpoint(\n",
    "    filepath=best_path,\n",
    "    monitor='val_acc',\n",
    "    mode='max',\n",
    "    save_best_only=True,\n",
    "    save_weights_only=True,\n",
    "    initial_value_threshold=0.92)\n",
    "               \n",
    "       \n",
    "\n",
    "def _lrs(epoch, lr):\n",
    "    return lr\n",
    "    \n",
    "lrs = LearningRateScheduler(_lrs) \n",
    " \n",
    "stop = EarlyStopping(\n",
    "        monitor='val_acc',\n",
    "        min_delta=0.0001,\n",
    "        patience=10,\n",
    "        verbose=1,\n",
    "        mode='auto',\n",
    "        baseline=None,\n",
    "        restore_best_weights=True\n",
    ")\n",
    "\n",
    "stop_acc = EarlyStopping(\n",
    "            monitor='acc',\n",
    "            min_delta=0.001,\n",
    "            patience=10,\n",
    "            verbose=1,\n",
    "            mode='auto',\n",
    "            baseline=None,\n",
    "            restore_best_weights=True)\n",
    "\n",
    "logdir='./logs'\n",
    "tensorboard_callback = keras.callbacks.TensorBoard(log_dir=logdir)"
   ]
  },
  {
   "cell_type": "code",
   "execution_count": null,
   "id": "60f40148-30d4-4656-b758-e264817dad83",
   "metadata": {},
   "outputs": [],
   "source": []
  },
  {
   "cell_type": "code",
   "execution_count": 20,
   "id": "CwOLPQDTmS6f",
   "metadata": {
    "id": "CwOLPQDTmS6f"
   },
   "outputs": [],
   "source": [
    "from keras.applications.resnet_v2 import ResNet101V2\n",
    "from keras.applications.densenet import DenseNet121\n",
    "from keras.layers import Input, GlobalAveragePooling2D\n",
    "from keras.preprocessing.image import ImageDataGenerator\n",
    "from keras.layers import (Conv2D, MaxPooling2D, Flatten, Dense, Dropout, BatchNormalization, UpSampling2D, \n",
    "                          concatenate, GlobalAveragePooling2D, Input)\n",
    "from keras.regularizers import l2, l1_l2\n",
    "from keras.constraints import MaxNorm\n",
    "from keras.models import load_model, Sequential\n",
    "from keras.preprocessing import image\n",
    "from keras.applications.resnet_v2 import ResNet50V2, ResNet152V2\n",
    "from keras.applications.xception import Xception\n",
    "from keras.models import Model\n",
    "\n",
    "from keras.callbacks import Callback, EarlyStopping, LearningRateScheduler, ModelCheckpoint, LearningRateScheduler, TensorBoard\n",
    "import sklearn as sk \n",
    "from sklearn.model_selection import train_test_split\n",
    "from sklearn.metrics import accuracy_score, precision_score, recall_score, f1_score, confusion_matrix"
   ]
  },
  {
   "cell_type": "code",
   "execution_count": 21,
   "id": "67c8158b-b071-4aa4-aeb0-64d427aaf56d",
   "metadata": {},
   "outputs": [],
   "source": [
    "def predict(model, file, file_to_class):\n",
    "    base_dir = 'OCT2017/all_data'\n",
    "    if 'CNV' in file:\n",
    "        iclass = 0\n",
    "    elif 'DME' in file:\n",
    "        iclass = 1\n",
    "    elif 'DRUSEN' in file:\n",
    "        iclass = 2\n",
    "    elif 'NORMAL' in file: \n",
    "        iclass = 3\n",
    "    else:\n",
    "        print(f'oops: {file}')\n",
    "    img = Image.open(os.path.join('./OCT2017/all_data', file))\n",
    "    # img = img.resize((256, 256, 3))\n",
    "    np_img = np.array(img.getdata())/255.\n",
    "    print(np_img.shape)\n",
    "    # t = model.predict(np_img)\n",
    "\n",
    "               "
   ]
  },
  {
   "cell_type": "code",
   "execution_count": 23,
   "id": "530bdfd7-e12c-4093-a6b5-dcb8b8bf3442",
   "metadata": {},
   "outputs": [],
   "source": [
    "best_path_adam='./best_val_acc_'+str(int(time.time()))\n",
    "model_checkpoint_callback_adam = keras.callbacks.ModelCheckpoint(\n",
    "    filepath=best_path_adam,\n",
    "    monitor='val_acc',\n",
    "    mode='max',\n",
    "    save_best_only=True,\n",
    "    save_weights_only=True,\n",
    "    initial_value_threshold=0.92)"
   ]
  },
  {
   "cell_type": "code",
   "execution_count": 24,
   "id": "ChZvfW9uuXcU",
   "metadata": {
    "id": "ChZvfW9uuXcU"
   },
   "outputs": [],
   "source": [
    "adam1 = keras.optimizers.adam_v2.Adam(learning_rate=0.00001) #, clipnorm=1e5)"
   ]
  },
  {
   "cell_type": "code",
   "execution_count": 25,
   "id": "u8rEVaG0uXgV",
   "metadata": {
    "id": "u8rEVaG0uXgV"
   },
   "outputs": [
    {
     "name": "stdout",
     "output_type": "stream",
     "text": [
      "<keras.engine.sequential.Sequential object at 0x7f938c2afb80>\n"
     ]
    }
   ],
   "source": [
    "adam1_model = train_nn_model(adam1)"
   ]
  },
  {
   "cell_type": "code",
   "execution_count": 26,
   "id": "bCU-2O2WuXjP",
   "metadata": {
    "id": "bCU-2O2WuXjP"
   },
   "outputs": [],
   "source": [
    "# adam1_model.summary()"
   ]
  },
  {
   "cell_type": "code",
   "execution_count": 27,
   "id": "WoM1ooQZK88A",
   "metadata": {
    "id": "WoM1ooQZK88A"
   },
   "outputs": [
    {
     "name": "stdout",
     "output_type": "stream",
     "text": [
      "Epoch 1/80\n",
      "16697/16697 [==============================] - 1924s 115ms/step - loss: 0.8398 - acc: 0.6777 - val_loss: 0.6006 - val_acc: 0.7733\n",
      "Epoch 2/80\n",
      "16697/16697 [==============================] - 1212s 73ms/step - loss: 0.5994 - acc: 0.7786 - val_loss: 0.5179 - val_acc: 0.8166\n",
      "Epoch 3/80\n",
      "16697/16697 [==============================] - 1207s 72ms/step - loss: 0.5243 - acc: 0.8102 - val_loss: 0.5047 - val_acc: 0.8213\n",
      "Epoch 4/80\n",
      "16697/16697 [==============================] - 1180s 71ms/step - loss: 0.4632 - acc: 0.8325 - val_loss: 0.4046 - val_acc: 0.8586\n",
      "Epoch 5/80\n",
      "16697/16697 [==============================] - 1186s 71ms/step - loss: 0.3998 - acc: 0.8582 - val_loss: 0.3432 - val_acc: 0.8814\n",
      "Epoch 6/80\n",
      "16697/16697 [==============================] - 1167s 70ms/step - loss: 0.3542 - acc: 0.8744 - val_loss: 0.3311 - val_acc: 0.8867\n",
      "Epoch 7/80\n",
      "16697/16697 [==============================] - 1177s 70ms/step - loss: 0.3235 - acc: 0.8872 - val_loss: 0.2982 - val_acc: 0.9021\n",
      "Epoch 8/80\n",
      "16697/16697 [==============================] - 1158s 69ms/step - loss: 0.3007 - acc: 0.8957 - val_loss: 0.2629 - val_acc: 0.9087\n",
      "Epoch 9/80\n",
      "16697/16697 [==============================] - 1186s 71ms/step - loss: 0.2811 - acc: 0.9017 - val_loss: 0.2465 - val_acc: 0.9164\n",
      "Epoch 10/80\n",
      "16697/16697 [==============================] - 1201s 72ms/step - loss: 0.2646 - acc: 0.9080 - val_loss: 0.2380 - val_acc: 0.9209\n",
      "Epoch 11/80\n",
      "16697/16697 [==============================] - 1190s 71ms/step - loss: 0.2513 - acc: 0.9140 - val_loss: 0.2305 - val_acc: 0.9253\n",
      "Epoch 12/80\n",
      "16697/16697 [==============================] - 1182s 71ms/step - loss: 0.2403 - acc: 0.9172 - val_loss: 0.2560 - val_acc: 0.9149\n",
      "Epoch 13/80\n",
      "16697/16697 [==============================] - 1195s 72ms/step - loss: 0.2308 - acc: 0.9214 - val_loss: 0.2145 - val_acc: 0.9284\n",
      "Epoch 14/80\n",
      "16697/16697 [==============================] - 1204s 72ms/step - loss: 0.2211 - acc: 0.9240 - val_loss: 0.2137 - val_acc: 0.9284\n",
      "Epoch 15/80\n",
      "16697/16697 [==============================] - 1156s 69ms/step - loss: 0.2127 - acc: 0.9275 - val_loss: 0.2083 - val_acc: 0.9295\n",
      "Epoch 16/80\n",
      "16697/16697 [==============================] - 1169s 70ms/step - loss: 0.2050 - acc: 0.9301 - val_loss: 0.2015 - val_acc: 0.9326\n",
      "Epoch 17/80\n",
      "16697/16697 [==============================] - 1214s 73ms/step - loss: 0.1964 - acc: 0.9342 - val_loss: 0.1829 - val_acc: 0.9391\n",
      "Epoch 18/80\n",
      "16697/16697 [==============================] - 1182s 71ms/step - loss: 0.1923 - acc: 0.9347 - val_loss: 0.2009 - val_acc: 0.9343\n",
      "Epoch 19/80\n",
      "16697/16697 [==============================] - 1204s 72ms/step - loss: 0.1858 - acc: 0.9374 - val_loss: 0.1877 - val_acc: 0.9382\n",
      "Epoch 20/80\n",
      "16697/16697 [==============================] - 1212s 73ms/step - loss: 0.1831 - acc: 0.9381 - val_loss: 0.1847 - val_acc: 0.9388\n",
      "Epoch 21/80\n",
      "16697/16697 [==============================] - 1218s 73ms/step - loss: 0.1769 - acc: 0.9406 - val_loss: 0.1739 - val_acc: 0.9405\n",
      "Epoch 22/80\n",
      "16697/16697 [==============================] - 1233s 74ms/step - loss: 0.1731 - acc: 0.9423 - val_loss: 0.1757 - val_acc: 0.9400\n",
      "Epoch 23/80\n",
      "16697/16697 [==============================] - 1236s 74ms/step - loss: 0.1673 - acc: 0.9445 - val_loss: 0.1645 - val_acc: 0.9465\n",
      "Epoch 24/80\n",
      "16697/16697 [==============================] - 1231s 74ms/step - loss: 0.1658 - acc: 0.9447 - val_loss: 0.1766 - val_acc: 0.9402\n",
      "Epoch 25/80\n",
      "16697/16697 [==============================] - 1218s 73ms/step - loss: 0.1615 - acc: 0.9459 - val_loss: 0.1844 - val_acc: 0.9387\n",
      "Epoch 26/80\n",
      "16697/16697 [==============================] - 1223s 73ms/step - loss: 0.1599 - acc: 0.9470 - val_loss: 0.1673 - val_acc: 0.9442\n",
      "Epoch 27/80\n",
      "16697/16697 [==============================] - 1216s 73ms/step - loss: 0.1562 - acc: 0.9471 - val_loss: 0.1602 - val_acc: 0.9453\n",
      "Epoch 28/80\n",
      "16697/16697 [==============================] - 1223s 73ms/step - loss: 0.1538 - acc: 0.9481 - val_loss: 0.1815 - val_acc: 0.9399\n",
      "Epoch 29/80\n",
      "16697/16697 [==============================] - 1212s 73ms/step - loss: 0.1527 - acc: 0.9486 - val_loss: 0.1645 - val_acc: 0.9454\n",
      "Epoch 30/80\n",
      "16697/16697 [==============================] - 1220s 73ms/step - loss: 0.1494 - acc: 0.9501 - val_loss: 0.1646 - val_acc: 0.9453\n",
      "Epoch 31/80\n",
      "16697/16697 [==============================] - 1245s 75ms/step - loss: 0.1476 - acc: 0.9501 - val_loss: 0.1602 - val_acc: 0.9483\n",
      "Epoch 32/80\n",
      "16697/16697 [==============================] - 1239s 74ms/step - loss: 0.1456 - acc: 0.9514 - val_loss: 0.1574 - val_acc: 0.9508\n",
      "Epoch 33/80\n",
      "16697/16697 [==============================] - 1217s 73ms/step - loss: 0.1430 - acc: 0.9521 - val_loss: 0.1596 - val_acc: 0.9478\n",
      "Epoch 34/80\n",
      "16697/16697 [==============================] - 1237s 74ms/step - loss: 0.1429 - acc: 0.9529 - val_loss: 0.1559 - val_acc: 0.9484\n",
      "Epoch 35/80\n",
      "16697/16697 [==============================] - 1234s 74ms/step - loss: 0.1394 - acc: 0.9540 - val_loss: 0.1490 - val_acc: 0.9521\n",
      "Epoch 36/80\n",
      "16697/16697 [==============================] - 1219s 73ms/step - loss: 0.1384 - acc: 0.9535 - val_loss: 0.1643 - val_acc: 0.9463\n",
      "Epoch 37/80\n",
      "16697/16697 [==============================] - 1233s 74ms/step - loss: 0.1362 - acc: 0.9555 - val_loss: 0.1517 - val_acc: 0.9501\n",
      "Epoch 38/80\n",
      "16697/16697 [==============================] - 1240s 74ms/step - loss: 0.1362 - acc: 0.9555 - val_loss: 0.1496 - val_acc: 0.9527\n",
      "Epoch 39/80\n",
      "16697/16697 [==============================] - 1220s 73ms/step - loss: 0.1335 - acc: 0.9560 - val_loss: 0.1573 - val_acc: 0.9485\n",
      "Epoch 40/80\n",
      "16697/16697 [==============================] - 1217s 73ms/step - loss: 0.1305 - acc: 0.9573 - val_loss: 0.1581 - val_acc: 0.9495\n",
      "Epoch 41/80\n",
      "16697/16697 [==============================] - 1205s 72ms/step - loss: 0.1308 - acc: 0.9570 - val_loss: 0.1554 - val_acc: 0.9506\n",
      "Epoch 42/80\n",
      "16697/16697 [==============================] - 1218s 73ms/step - loss: 0.1294 - acc: 0.9569 - val_loss: 0.1598 - val_acc: 0.9474\n",
      "Epoch 43/80\n",
      "16697/16697 [==============================] - 1214s 73ms/step - loss: 0.1275 - acc: 0.9582 - val_loss: 0.1591 - val_acc: 0.9505\n",
      "Epoch 44/80\n",
      "16697/16697 [==============================] - 1213s 73ms/step - loss: 0.1254 - acc: 0.9585 - val_loss: 0.1454 - val_acc: 0.9524\n",
      "Epoch 45/80\n",
      "16697/16697 [==============================] - 1225s 73ms/step - loss: 0.1257 - acc: 0.9587 - val_loss: 0.1557 - val_acc: 0.9514\n",
      "Epoch 46/80\n",
      "16697/16697 [==============================] - 1244s 75ms/step - loss: 0.1243 - acc: 0.9588 - val_loss: 0.1578 - val_acc: 0.9482\n",
      "Epoch 47/80\n",
      "16697/16697 [==============================] - 1214s 73ms/step - loss: 0.1214 - acc: 0.9599 - val_loss: 0.1558 - val_acc: 0.9494\n",
      "Epoch 48/80\n",
      "16697/16697 [==============================] - 1212s 73ms/step - loss: 0.1208 - acc: 0.9601 - val_loss: 0.1521 - val_acc: 0.9503\n",
      "Epoch 49/80\n",
      "16697/16697 [==============================] - 1231s 74ms/step - loss: 0.1199 - acc: 0.9608 - val_loss: 0.1564 - val_acc: 0.9500\n",
      "Epoch 50/80\n",
      "16697/16697 [==============================] - 1245s 75ms/step - loss: 0.1202 - acc: 0.9603 - val_loss: 0.1617 - val_acc: 0.9471\n",
      "Epoch 51/80\n",
      "16697/16697 [==============================] - 1218s 73ms/step - loss: 0.1182 - acc: 0.9609 - val_loss: 0.1484 - val_acc: 0.9520\n",
      "Epoch 52/80\n",
      "16697/16697 [==============================] - 1227s 73ms/step - loss: 0.1182 - acc: 0.9607 - val_loss: 0.1545 - val_acc: 0.9504\n",
      "Epoch 53/80\n",
      "16697/16697 [==============================] - 1236s 74ms/step - loss: 0.1185 - acc: 0.9617 - val_loss: 0.1578 - val_acc: 0.9499\n",
      "Epoch 54/80\n",
      "16697/16697 [==============================] - 1227s 74ms/step - loss: 0.1170 - acc: 0.9618 - val_loss: 0.1673 - val_acc: 0.9485\n",
      "Epoch 55/80\n",
      "16697/16697 [==============================] - 1230s 74ms/step - loss: 0.1144 - acc: 0.9622 - val_loss: 0.1672 - val_acc: 0.9492\n",
      "Epoch 56/80\n",
      "16697/16697 [==============================] - 1221s 73ms/step - loss: 0.1130 - acc: 0.9627 - val_loss: 0.1502 - val_acc: 0.9500\n",
      "Epoch 57/80\n",
      "16697/16697 [==============================] - 1241s 74ms/step - loss: 0.1126 - acc: 0.9637 - val_loss: 0.1497 - val_acc: 0.9549\n",
      "Epoch 58/80\n",
      "16697/16697 [==============================] - 1237s 74ms/step - loss: 0.1126 - acc: 0.9636 - val_loss: 0.1489 - val_acc: 0.9565\n",
      "Epoch 59/80\n",
      "16697/16697 [==============================] - 1242s 74ms/step - loss: 0.1121 - acc: 0.9633 - val_loss: 0.1525 - val_acc: 0.9489\n",
      "Epoch 60/80\n",
      "16697/16697 [==============================] - 1231s 74ms/step - loss: 0.1102 - acc: 0.9634 - val_loss: 0.1516 - val_acc: 0.9536\n",
      "Epoch 61/80\n",
      "16697/16697 [==============================] - 1235s 74ms/step - loss: 0.1091 - acc: 0.9652 - val_loss: 0.1682 - val_acc: 0.9473\n",
      "Epoch 62/80\n",
      "16697/16697 [==============================] - 1241s 74ms/step - loss: 0.1075 - acc: 0.9651 - val_loss: 0.1532 - val_acc: 0.9506\n",
      "Epoch 63/80\n",
      "16697/16697 [==============================] - 1216s 73ms/step - loss: 0.1077 - acc: 0.9644 - val_loss: 0.1538 - val_acc: 0.9521\n",
      "Epoch 64/80\n",
      "16697/16697 [==============================] - 1227s 73ms/step - loss: 0.1072 - acc: 0.9651 - val_loss: 0.1476 - val_acc: 0.9547\n",
      "Epoch 65/80\n",
      "16697/16697 [==============================] - 1224s 73ms/step - loss: 0.1070 - acc: 0.9652 - val_loss: 0.1494 - val_acc: 0.9519\n",
      "Epoch 66/80\n",
      "16697/16697 [==============================] - 1244s 75ms/step - loss: 0.1039 - acc: 0.9658 - val_loss: 0.1493 - val_acc: 0.9535\n",
      "Epoch 67/80\n",
      "16697/16697 [==============================] - 1220s 73ms/step - loss: 0.1041 - acc: 0.9656 - val_loss: 0.1531 - val_acc: 0.9516\n",
      "Epoch 68/80\n",
      "16697/16697 [==============================] - 1225s 73ms/step - loss: 0.1043 - acc: 0.9651 - val_loss: 0.1604 - val_acc: 0.9534\n",
      "Epoch 69/80\n",
      "16697/16697 [==============================] - 1235s 74ms/step - loss: 0.1035 - acc: 0.9669 - val_loss: 0.1842 - val_acc: 0.9457\n",
      "Epoch 70/80\n",
      "16697/16697 [==============================] - 1214s 73ms/step - loss: 0.1031 - acc: 0.9665 - val_loss: 0.1589 - val_acc: 0.9527\n",
      "Epoch 71/80\n",
      "16697/16697 [==============================] - 1198s 72ms/step - loss: 0.1031 - acc: 0.9670 - val_loss: 0.1610 - val_acc: 0.9527\n",
      "Epoch 72/80\n",
      "16697/16697 [==============================] - 1164s 70ms/step - loss: 0.1012 - acc: 0.9676 - val_loss: 0.1544 - val_acc: 0.9535\n",
      "Epoch 73/80\n",
      "16697/16697 [==============================] - 1146s 69ms/step - loss: 0.1006 - acc: 0.9676 - val_loss: 0.1452 - val_acc: 0.9551\n",
      "Epoch 74/80\n",
      "16697/16697 [==============================] - 1178s 71ms/step - loss: 0.1002 - acc: 0.9673 - val_loss: 0.1583 - val_acc: 0.9506\n",
      "Epoch 75/80\n",
      "16697/16697 [==============================] - 1215s 73ms/step - loss: 0.0984 - acc: 0.9689 - val_loss: 0.1541 - val_acc: 0.9523\n",
      "Epoch 76/80\n",
      "16697/16697 [==============================] - 1208s 72ms/step - loss: 0.0977 - acc: 0.9688 - val_loss: 0.1513 - val_acc: 0.9514\n",
      "Epoch 77/80\n",
      "16697/16697 [==============================] - 1224s 73ms/step - loss: 0.0985 - acc: 0.9685 - val_loss: 0.1559 - val_acc: 0.9550\n",
      "Epoch 78/80\n",
      "16697/16697 [==============================] - 1222s 73ms/step - loss: 0.0979 - acc: 0.9681 - val_loss: 0.1499 - val_acc: 0.9540\n",
      "Epoch 79/80\n",
      "16697/16697 [==============================] - 1216s 73ms/step - loss: 0.0958 - acc: 0.9698 - val_loss: 0.1807 - val_acc: 0.9463\n",
      "Epoch 80/80\n",
      "16697/16697 [==============================] - 1204s 72ms/step - loss: 0.0966 - acc: 0.9690 - val_loss: 0.1492 - val_acc: 0.9542\n"
     ]
    }
   ],
   "source": [
    "history = adam1_model.fit(train_generator, \n",
    "                    steps_per_epoch=steps,\n",
    "                    epochs=80,\n",
    "                    verbose=1,\n",
    "                    validation_data=valid_generator,\n",
    "                    callbacks=[tensorboard_callback, model_checkpoint_callback_adam])"
   ]
  },
  {
   "cell_type": "code",
   "execution_count": null,
   "id": "28Ai9VCLmRcX",
   "metadata": {
    "id": "28Ai9VCLmRcX"
   },
   "outputs": [],
   "source": []
  },
  {
   "cell_type": "code",
   "execution_count": 30,
   "id": "6cyT9oODR3D-",
   "metadata": {
    "id": "6cyT9oODR3D-"
   },
   "outputs": [
    {
     "data": {
      "image/png": "[encoded data removed]",
      "text/plain": [
       "<Figure size 1800x720 with 1 Axes>"
      ]
     },
     "metadata": {
      "needs_background": "light"
     },
     "output_type": "display_data"
    }
   ],
   "source": [
    "fig = plt.gcf()\n",
    "fig.set_size_inches(25, 10)\n",
    "plt.plot(history.history['acc'], label='acc')\n",
    "plt.plot(history.history['val_acc'], label='val_acc')\n",
    "plt.legend()\n",
    "plt.savefig('./custom_acc.png')"
   ]
  },
  {
   "cell_type": "code",
   "execution_count": 31,
   "id": "EpNTSz7uR_me",
   "metadata": {
    "id": "EpNTSz7uR_me"
   },
   "outputs": [
    {
     "data": {
      "image/png": "[encoded data removed]",
      "text/plain": [
       "<Figure size 1800x720 with 1 Axes>"
      ]
     },
     "metadata": {
      "needs_background": "light"
     },
     "output_type": "display_data"
    }
   ],
   "source": [
    "fig = plt.gcf()\n",
    "fig.set_size_inches(25, 10)\n",
    "plt.plot(history.history['loss'], label='loss')\n",
    "plt.plot(history.history['val_loss'], label='val_loss')\n",
    "plt.legend()\n",
    "plt.savefig('./custom_loss.png')"
   ]
  },
  {
   "cell_type": "code",
   "execution_count": 32,
   "id": "4ee8e46d-e8d7-43b8-b42e-3ebedbed8256",
   "metadata": {},
   "outputs": [],
   "source": [
    "valid_generator.classes \n",
    "y_pred = adam1_model.predict(valid_generator)       \n"
   ]
  },
  {
   "cell_type": "code",
   "execution_count": 34,
   "id": "7786d6a6-2059-474c-980f-79ae3042aa85",
   "metadata": {},
   "outputs": [
    {
     "name": "stdout",
     "output_type": "stream",
     "text": [
      "[0 0 0 0 0 0 0 0 0 0]\n",
      "[0 0 0 0 0 0 0 0 0 0]\n"
     ]
    }
   ],
   "source": [
    "y_pred_bool = np.argmax(y_pred, axis=1)\n",
    "y_test = valid_generator.classes\n",
    "print(y_pred_bool[:10])\n",
    "print(y_test[:10])"
   ]
  },
  {
   "cell_type": "code",
   "execution_count": 35,
   "id": "14eb111a-7519-4ea0-9741-137bdf54e165",
   "metadata": {},
   "outputs": [],
   "source": [
    "cm1= confusion_matrix(y_test, y_pred_bool)"
   ]
  },
  {
   "cell_type": "code",
   "execution_count": 36,
   "id": "e7d286e7-141c-4c51-a1dc-6cebd2cf09e5",
   "metadata": {},
   "outputs": [
    {
     "data": {
      "image/png": "[encoded data removed]",
      "text/plain": [
       "<Figure size 432x288 with 2 Axes>"
      ]
     },
     "metadata": {
      "needs_background": "light"
     },
     "output_type": "display_data"
    }
   ],
   "source": [
    "import seaborn as sns\n",
    "hm1 = sns.heatmap(cm1, annot=True, fmt='5d')\n",
    "hm1.figure.savefig('custom_last_heatmap.png')"
   ]
  },
  {
   "cell_type": "code",
   "execution_count": 37,
   "id": "6e8937dc-a62b-4e35-be54-6bb3719f4e6e",
   "metadata": {},
   "outputs": [
    {
     "data": {
      "text/plain": [
       "0.9546597987541926"
      ]
     },
     "execution_count": 37,
     "metadata": {},
     "output_type": "execute_result"
    }
   ],
   "source": [
    "accuracy_score(y_test, y_pred_bool)"
   ]
  },
  {
   "cell_type": "code",
   "execution_count": 38,
   "id": "b286e28f-2556-4244-853a-3b4bb9526f89",
   "metadata": {},
   "outputs": [
    {
     "name": "stdout",
     "output_type": "stream",
     "text": [
      "              precision    recall  f1-score   support\n",
      "\n",
      "         CNV       0.97      0.97      0.97      7441\n",
      "         DME       0.96      0.93      0.94      2269\n",
      "      DRUSEN       0.87      0.84      0.86      1723\n",
      "      NORMAL       0.95      0.98      0.97      5263\n",
      "\n",
      "    accuracy                           0.95     16696\n",
      "   macro avg       0.94      0.93      0.93     16696\n",
      "weighted avg       0.95      0.95      0.95     16696\n",
      "\n"
     ]
    }
   ],
   "source": [
    "print(classification_report(y_test, np.squeeze(y_pred_bool), target_names=list(valid_generator.class_indices.keys())))"
   ]
  },
  {
   "cell_type": "markdown",
   "id": "821fa08a-5ca4-40c3-b9e9-20d1767a1c65",
   "metadata": {},
   "source": [
    "Test the \"best\" weights"
   ]
  },
  {
   "cell_type": "code",
   "execution_count": 39,
   "id": "c310f671-179f-400b-89de-008ae5d348bc",
   "metadata": {},
   "outputs": [
    {
     "data": {
      "text/plain": [
       "<tensorflow.python.training.tracking.util.CheckpointLoadStatus at 0x7f94ac634610>"
      ]
     },
     "execution_count": 39,
     "metadata": {},
     "output_type": "execute_result"
    }
   ],
   "source": [
    "adam1_model.load_weights(best_path_adam)\n"
   ]
  },
  {
   "cell_type": "code",
   "execution_count": 40,
   "id": "e2c6362c-18fb-4e13-926d-ddc579007ce9",
   "metadata": {},
   "outputs": [],
   "source": [
    "y_pred = adam1_model.predict(valid_generator) "
   ]
  },
  {
   "cell_type": "code",
   "execution_count": 41,
   "id": "a2d48778-b932-496e-89f3-4af51f211f52",
   "metadata": {},
   "outputs": [
    {
     "name": "stdout",
     "output_type": "stream",
     "text": [
      "[0 0 0 0 0 0 0 0 0 0]\n"
     ]
    }
   ],
   "source": [
    "\n",
    "\n",
    "y_pred_bool = np.argmax(y_pred, axis=1)\n",
    "y_test = valid_generator.classes\n",
    "print(y_pred_bool[:10])"
   ]
  },
  {
   "cell_type": "code",
   "execution_count": 42,
   "id": "bfa5772b-cf99-4f69-8fa3-9933ffc56433",
   "metadata": {},
   "outputs": [],
   "source": [
    "#print(classification_report(y_test, y_pred_bool))\n",
    "cm2 = confusion_matrix(y_test, y_pred_bool)"
   ]
  },
  {
   "cell_type": "code",
   "execution_count": 46,
   "id": "025f58fe-9498-41c4-8f02-f192ecce4fa6",
   "metadata": {},
   "outputs": [
    {
     "data": {
      "image/png": "[encoded data removed]",
      "text/plain": [
       "<Figure size 432x288 with 2 Axes>"
      ]
     },
     "metadata": {
      "needs_background": "light"
     },
     "output_type": "display_data"
    }
   ],
   "source": [
    "hm2 = sns.heatmap(cm2, annot=True, fmt='5d')\n",
    "hm2.figure.savefig('custom_best_heatmap.png')"
   ]
  },
  {
   "cell_type": "code",
   "execution_count": 44,
   "id": "4d1ac07c-536c-42aa-a46e-ba1fc0bbd4ac",
   "metadata": {},
   "outputs": [
    {
     "data": {
      "text/plain": [
       "0.9551389554384284"
      ]
     },
     "execution_count": 44,
     "metadata": {},
     "output_type": "execute_result"
    }
   ],
   "source": [
    "accuracy_score(y_test, y_pred_bool)"
   ]
  },
  {
   "cell_type": "code",
   "execution_count": 45,
   "id": "209455e6-f3a4-4854-ae00-59cd799b8d36",
   "metadata": {},
   "outputs": [
    {
     "name": "stdout",
     "output_type": "stream",
     "text": [
      "              precision    recall  f1-score   support\n",
      "\n",
      "         CNV       0.97      0.98      0.97      7441\n",
      "         DME       0.96      0.93      0.94      2269\n",
      "      DRUSEN       0.89      0.82      0.85      1723\n",
      "      NORMAL       0.95      0.98      0.96      5263\n",
      "\n",
      "    accuracy                           0.96     16696\n",
      "   macro avg       0.94      0.93      0.93     16696\n",
      "weighted avg       0.95      0.96      0.95     16696\n",
      "\n"
     ]
    }
   ],
   "source": [
    "print(classification_report(y_test, np.squeeze(y_pred_bool), target_names=list(valid_generator.class_indices.keys())))"
   ]
  },
  {
   "cell_type": "code",
   "execution_count": 47,
   "id": "fb6046a0-748e-4236-94d2-7d86bf09de33",
   "metadata": {},
   "outputs": [
    {
     "name": "stdout",
     "output_type": "stream",
     "text": [
      "INFO:tensorflow:Assets written to: ./custom_best/assets\n"
     ]
    }
   ],
   "source": [
    "tf.saved_model.save(adam1_model, './custom_best')"
   ]
  },
  {
   "cell_type": "code",
   "execution_count": 49,
   "id": "7e9d9a13-b547-4638-b89e-7acf4de08351",
   "metadata": {},
   "outputs": [
    {
     "name": "stderr",
     "output_type": "stream",
     "text": [
      "WARNING:absl:Buffer deduplication procedure will be skipped when flatbuffer library is not properly loaded\n"
     ]
    }
   ],
   "source": [
    "loaded = tf.saved_model.load('./custom_best') \n",
    "converter = tf.lite.TFLiteConverter.from_saved_model(\"./custom_best\")\n",
    "tflite_best_custom = \"./tflite_custom_best\"\n",
    "with open(tflite_best_custom, \"wb\") as f:\n",
    "          f.write(converter.convert())\n",
    "\n",
    "                                                     "
   ]
  },
  {
   "cell_type": "code",
   "execution_count": 50,
   "id": "a49bc879-46ef-4cd0-82f4-6b0f3e5b79f6",
   "metadata": {},
   "outputs": [],
   "source": [
    "with open(tflite_best_custom, 'rb') as f:\n",
    "    tflite_best_custom_instance = f.read()\n",
    "    "
   ]
  },
  {
   "cell_type": "code",
   "execution_count": 52,
   "id": "7b3b1145-2ca6-4e34-a875-96e78bcb1ede",
   "metadata": {},
   "outputs": [],
   "source": [
    "interpreter_custom_best = tf.lite.Interpreter(model_content=tflite_best_custom_instance)\n",
    "interpreter_custom_best.allocate_tensors()\n",
    "input_index = interpreter_custom_best.get_input_details()[0]['index']\n",
    "output_index = interpreter_custom_best.get_output_details()[0]['index']"
   ]
  },
  {
   "cell_type": "code",
   "execution_count": null,
   "id": "cd2c7475-afbe-476a-81ef-bb561d26b97b",
   "metadata": {},
   "outputs": [],
   "source": [
    "\n"
   ]
  }
 ],
 "metadata": {
  "accelerator": "GPU",
  "colab": {
   "name": "ImageExploration.ipynb",
   "provenance": [],
   "toc_visible": true
  },
  "kernelspec": {
   "display_name": "Python 3 (ipykernel)",
   "language": "python",
   "name": "python3"
  },
  "language_info": {
   "codemirror_mode": {
    "name": "ipython",
    "version": 3
   },
   "file_extension": ".py",
   "mimetype": "text/x-python",
   "name": "python",
   "nbconvert_exporter": "python",
   "pygments_lexer": "ipython3",
   "version": "3.10.4"
  }
 },
 "nbformat": 4,
 "nbformat_minor": 5
}
