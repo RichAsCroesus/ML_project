{
 "cells": [
  {
   "cell_type": "code",
   "execution_count": 1,
   "id": "35d76af6-bc20-4022-9af7-2ea3c1cb9e16",
   "metadata": {},
   "outputs": [],
   "source": [
    "import os\n",
    "# os.environ[\"CUDA_VISIBLE_DEVICES\"] = \"-1\"\n"
   ]
  },
  {
   "cell_type": "code",
   "execution_count": 2,
   "id": "c5c9203c-f5d9-4525-bbc8-e7e8fa7f3711",
   "metadata": {},
   "outputs": [
    {
     "name": "stdout",
     "output_type": "stream",
     "text": [
      "/usr/local/cuda-11.5/lib64:/usr/local/cudnn/lib\n"
     ]
    }
   ],
   "source": [
    "print(os.environ[\"LD_LIBRARY_PATH\"])"
   ]
  },
  {
   "cell_type": "code",
   "execution_count": 3,
   "id": "f53c66b1-cb6e-437e-ba01-be3f7599271f",
   "metadata": {
    "colab": {
     "base_uri": "https://localhost:8080/"
    },
    "id": "f53c66b1-cb6e-437e-ba01-be3f7599271f",
    "outputId": "5b5d8323-7808-4e29-92b4-ad2f33017574"
   },
   "outputs": [
    {
     "name": "stdout",
     "output_type": "stream",
     "text": [
      "2.8.0\n",
      "3.10.4 (main, Mar 25 2022, 00:00:00) [GCC 11.2.1 20220127 (Red Hat 11.2.1-9)]\n"
     ]
    }
   ],
   "source": [
    "\n",
    "import zipfile\n",
    "import random\n",
    "import tensorflow as tf\n",
    "import keras \n",
    "from keras.optimizer_v2 import (\n",
    "    adadelta,\n",
    "    adagrad,\n",
    "    adamax,\n",
    "    adam,\n",
    "    learning_rate_schedule,\n",
    "    gradient_descent,\n",
    "    ftrl,\n",
    "    )\n",
    "from keras.preprocessing.image import ImageDataGenerator\n",
    "from keras.layers import Conv2D, MaxPooling2D, Flatten, Dense, Dropout\n",
    "from keras.regularizers import l2, l1_l2\n",
    "from keras.constraints import MaxNorm\n",
    "from keras.callbacks import Callback, EarlyStopping, LearningRateScheduler\n",
    "\n",
    "import random\n",
    "import sys \n",
    "\n",
    "print(tf.__version__)\n",
    "print(sys.version)"
   ]
  },
  {
   "cell_type": "code",
   "execution_count": 4,
   "id": "3cd2ae0a-748a-455b-be40-9ce3ef2bab44",
   "metadata": {},
   "outputs": [],
   "source": [
    "from keras.models import Model"
   ]
  },
  {
   "cell_type": "code",
   "execution_count": 5,
   "id": "a990dfa8-cd07-44b6-808f-662fa8e1e7ae",
   "metadata": {
    "id": "a990dfa8-cd07-44b6-808f-662fa8e1e7ae"
   },
   "outputs": [],
   "source": [
    "import numpy as np\n",
    "import matplotlib.pyplot as plt\n",
    "import inspect \n",
    "import time \n",
    "import datetime\n",
    "import cv2\n",
    "\n",
    "# use seaborn plotting defaults\n",
    "import seaborn as sns; sns.set()\n",
    "from sklearn.metrics import confusion_matrix\n",
    "from sklearn.metrics import classification_report\n",
    "import matplotlib.image as mpimg\n",
    "from PIL import Image\n",
    "from PIL import ImageFilter"
   ]
  },
  {
   "cell_type": "code",
   "execution_count": 6,
   "id": "f9c53030-e824-447c-9234-c1fe6155cf76",
   "metadata": {
    "id": "f9c53030-e824-447c-9234-c1fe6155cf76"
   },
   "outputs": [],
   "source": [
    "import pandas as pd "
   ]
  },
  {
   "cell_type": "code",
   "execution_count": 7,
   "id": "r7rQ6VhsH2AB",
   "metadata": {
    "id": "r7rQ6VhsH2AB"
   },
   "outputs": [],
   "source": [
    "DATA_PATH = './OCT2017/all_data'"
   ]
  },
  {
   "cell_type": "code",
   "execution_count": 8,
   "id": "QbJrgWudP1r2",
   "metadata": {
    "id": "QbJrgWudP1r2"
   },
   "outputs": [],
   "source": [
    "data_listing = os.listdir(DATA_PATH)"
   ]
  },
  {
   "cell_type": "code",
   "execution_count": 9,
   "id": "_p-5IMwzEUkO",
   "metadata": {
    "colab": {
     "base_uri": "https://localhost:8080/"
    },
    "id": "_p-5IMwzEUkO",
    "outputId": "3bfb119e-2ac8-47f6-9729-d2a9cb812c86"
   },
   "outputs": [
    {
     "name": "stdout",
     "output_type": "stream",
     "text": [
      "['NORMAL', 'CNV', 'DME', 'DRUSEN']\n"
     ]
    }
   ],
   "source": [
    "print(data_listing)"
   ]
  },
  {
   "cell_type": "code",
   "execution_count": 10,
   "id": "lbZXZCkOFtjp",
   "metadata": {
    "id": "lbZXZCkOFtjp"
   },
   "outputs": [],
   "source": [
    "train_dir= DATA_PATH\n",
    "CNV_PATH = os.path.join(train_dir, 'CNV')\n",
    "DME_PATH = os.path.join(train_dir, 'DME')\n",
    "NORMAL_PATH = os.path.join(train_dir, 'NORMAL')\n",
    "DRUSEN_PATH = os.path.join(train_dir, 'DRUSEN')"
   ]
  },
  {
   "cell_type": "code",
   "execution_count": 11,
   "id": "MyanRpu2QNW-",
   "metadata": {
    "id": "MyanRpu2QNW-"
   },
   "outputs": [],
   "source": [
    "cnv = os.listdir(CNV_PATH)\n",
    "dme = os.listdir(DME_PATH)\n",
    "normal = os.listdir(NORMAL_PATH)\n",
    "drusen = os.listdir(DRUSEN_PATH)"
   ]
  },
  {
   "cell_type": "code",
   "execution_count": 12,
   "id": "lSesf-HUFQU7",
   "metadata": {
    "colab": {
     "base_uri": "https://localhost:8080/"
    },
    "id": "lSesf-HUFQU7",
    "outputId": "575bdfa0-ff69-490f-8d1f-ff397edeca57"
   },
   "outputs": [
    {
     "name": "stdout",
     "output_type": "stream",
     "text": [
      "37205\n",
      "11348\n",
      "26315\n",
      "8616\n"
     ]
    }
   ],
   "source": [
    "print(len(cnv))\n",
    "print(len(dme))\n",
    "print(len(normal))\n",
    "print(len(drusen))"
   ]
  },
  {
   "cell_type": "code",
   "execution_count": 13,
   "id": "639f45fc-3c0d-424f-bd1b-2ede0c885669",
   "metadata": {
    "id": "639f45fc-3c0d-424f-bd1b-2ede0c885669"
   },
   "outputs": [],
   "source": [
    "def plot_grid(path_prefix, images_list, ncols=4, nrows=4, grey=False):\n",
    "    import os\n",
    "    example_test_images = random.sample(images_list, ncols*nrows)\n",
    "    fig = plt.gcf()\n",
    "    fig.set_size_inches(15, 15)\n",
    "\n",
    "    for i, img_path in enumerate(example_test_images):\n",
    "                   \n",
    "        sp = plt.subplot(nrows, ncols, i+1)\n",
    "        sp.axis('Off')\n",
    "        img = mpimg.imread(os.path.join(path_prefix, img_path))\n",
    "        if grey:\n",
    "            plt.imshow(img, cmap=plt.get_cmap('gray'))\n",
    "        else:\n",
    "            plt.imshow(img)\n",
    "    plt.show()"
   ]
  },
  {
   "cell_type": "code",
   "execution_count": 14,
   "id": "4a72f4cb-84cf-4202-b25f-694a5f3b6d5f",
   "metadata": {
    "colab": {
     "base_uri": "https://localhost:8080/",
     "height": 845
    },
    "id": "4a72f4cb-84cf-4202-b25f-694a5f3b6d5f",
    "outputId": "4d733f95-11c1-4f65-fda4-af69457e5b77"
   },
   "outputs": [],
   "source": [
    "# plot_grid(CNV_PATH, cnv)"
   ]
  },
  {
   "cell_type": "code",
   "execution_count": 15,
   "id": "40861375-9979-4ec6-8317-a0ae06a8114a",
   "metadata": {
    "colab": {
     "base_uri": "https://localhost:8080/",
     "height": 846
    },
    "id": "40861375-9979-4ec6-8317-a0ae06a8114a",
    "outputId": "b7ef95b8-71fc-4d31-a977-cb9258530397"
   },
   "outputs": [],
   "source": [
    "# plot_grid(DME_PATH, dme)"
   ]
  },
  {
   "cell_type": "code",
   "execution_count": 16,
   "id": "91cbd799-d9f7-40b1-9bdb-d925ad16a864",
   "metadata": {
    "colab": {
     "base_uri": "https://localhost:8080/",
     "height": 846
    },
    "id": "91cbd799-d9f7-40b1-9bdb-d925ad16a864",
    "outputId": "6a7e43a3-1e74-46a5-ce1f-3d63f9de2219"
   },
   "outputs": [],
   "source": [
    "#plot_grid(NORMAL_PATH, normal)"
   ]
  },
  {
   "cell_type": "code",
   "execution_count": 17,
   "id": "6732bf72-1a3d-4d66-ac57-50da77e777ee",
   "metadata": {
    "colab": {
     "base_uri": "https://localhost:8080/",
     "height": 845
    },
    "id": "6732bf72-1a3d-4d66-ac57-50da77e777ee",
    "outputId": "1d69e02a-2001-4b3a-8dd3-ba993a3467f2"
   },
   "outputs": [],
   "source": [
    "# plot_grid(DRUSEN_PATH, drusen,1, 1)"
   ]
  },
  {
   "cell_type": "code",
   "execution_count": 18,
   "id": "a6a9ac73-892d-4045-9186-b8f117f05e79",
   "metadata": {
    "id": "a6a9ac73-892d-4045-9186-b8f117f05e79"
   },
   "outputs": [],
   "source": [
    "def train_nn_model(optimizer):\n",
    "\n",
    "\n",
    "    # regu = tf.keras.regularizers.l2(1e-4)\n",
    "    regu = tf.keras.regularizers.l1_l2(5e-8, 5e-8)\n",
    "    model = tf.keras.models.Sequential([\n",
    "        tf.keras.layers.Input(shape=(256, 256, 3)),\n",
    "        tf.keras.layers.Conv2D(32, (3,3), strides=1, padding='same', activation='leaky_relu', kernel_regularizer=regu),    \n",
    "        tf.keras.layers.Conv2D(32, (3,3), strides=1, padding='same', activation='leaky_relu', kernel_regularizer=regu), \n",
    "        # tf.keras.layers.Conv2D(32,(3,3), strides=1, padding='same', activation='leaky_relu', kernel_regularizer=regu),  \n",
    "        # tf.keras.layers.Conv2D(32,(3,3), strides=1, padding='same', activation='leaky_relu', kernel_regularizer=regu),\n",
    "        # tf.keras.layers.Conv2D(64, (3,3), strides=1, padding='same', activation='leaky_relu', input_shape=(96, 96, 3)),  \n",
    "        # tf.keras.layers.Conv2D(64, (3,3), strides=1, padding='same', activation='leaky_relu', kernel_regularizer=regu),\n",
    "        # tf.keras.layers.MaxPooling2D(2,2),\n",
    "        \n",
    "  \n",
    "        #tf.keras.layers.Conv2D(64 , (3,3), strides=1, padding='same', activation='leaky_relu', kernel_regularizer=regu),\n",
    "        tf.keras.layers.MaxPooling2D(2,2), \n",
    "        # tf.keras.layers.BatchNormalization(),\n",
    "        \n",
    "        tf.keras.layers.Conv2D(64, (3,3), strides=1, padding='same', activation='leaky_relu', kernel_regularizer=regu),  \n",
    "        tf.keras.layers.Conv2D(64, (3,3), strides=1, padding='same', activation='leaky_relu', kernel_regularizer=regu),  \n",
    "        # tf.keras.layers.Conv2D(128, (3,3), strides=1, padding='same', activation='leaky_relu', kernel_regularizer=regu),  \n",
    "        # tf.keras.layers.Conv2D(128, (3,3), strides=1, padding='same', activation='leaky_relu', kernel_regularizer=regu),  \n",
    "        tf.keras.layers.MaxPooling2D(2,2), \n",
    "        \n",
    "        tf.keras.layers.Conv2D(128, (3,3), strides=1, padding='same', activation='leaky_relu', kernel_regularizer=regu),    \n",
    "        tf.keras.layers.Conv2D(128, (3,3), strides=1, padding='same', activation='leaky_relu', kernel_regularizer=regu),\n",
    "        tf.keras.layers.MaxPooling2D(2,2, padding='same'),\n",
    "        # tf.keras.layers.BatchNormalization(),\n",
    "        \n",
    "        # tf.keras.layers.Conv2D(256, (3,3), strides=1, padding='same', activation='leaky_relu', kernel_regularizer=regu),     \n",
    "        # tf.keras.layers.Conv2D(32, (3,3), strides=1, padding='same', activation='leaky_relu', kernel_regularizer=regu),  \n",
    "        # tf.keras.layers.Conv2D(32 , (3,3), strides=1, padding='same', activation='leaky_relu', kernel_regularizer=regu),\n",
    "        tf.keras.layers.Conv2D(64, (3,3), strides=1, padding='same', activation='leaky_relu', kernel_regularizer=regu),  \n",
    "        tf.keras.layers.Conv2D(64, (3,3), strides=1, padding='same', activation='leaky_relu', kernel_regularizer=regu),\n",
    "        tf.keras.layers.MaxPooling2D((2,2), padding='same'), \n",
    "        # tf.keras.layers.BatchNormalization(),\n",
    "        tf.keras.layers.Conv2D(256, (3,3), strides=1, padding='same', activation='leaky_relu', kernel_regularizer=regu),  \n",
    "        tf.keras.layers.Conv2D(256, (3,3), strides=1, padding='same', activation='leaky_relu', kernel_regularizer=regu),\n",
    "        # tf.keras.layers.MaxPooling2D((2,2), padding='same'), \n",
    "        tf.keras.layers.Flatten(),\n",
    "        tf.keras.layers.Dense(256, activation='relu', kernel_regularizer=regu),\n",
    "        # tf.keras.layers.Dense(100, activation='relu', kernel_regularizer=regu),\n",
    "        tf.keras.layers.Dense(4, activation='softmax')])\n",
    "        \n",
    "    model.compile(loss='sparse_categorical_crossentropy', optimizer=optimizer, metrics=['acc'])\n",
    "    print(model)\n",
    " \n",
    "    # model fitting\n",
    "    return model"
   ]
  },
  {
   "cell_type": "code",
   "execution_count": 19,
   "id": "VO7jyxAlILec",
   "metadata": {
    "colab": {
     "base_uri": "https://localhost:8080/"
    },
    "id": "VO7jyxAlILec",
    "outputId": "af29e50c-e71f-48f3-e164-38f6ade72330"
   },
   "outputs": [
    {
     "name": "stdout",
     "output_type": "stream",
     "text": [
      "Found 66788 images belonging to 4 classes.\n",
      "Found 16696 images belonging to 4 classes.\n"
     ]
    }
   ],
   "source": [
    "epochs=40\n",
    "batch_size=4\n",
    "\n",
    "train_datagen = ImageDataGenerator(rescale=1./255., data_format=\"channels_last\", \n",
    "                                   validation_split=0.20,\n",
    "                                   horizontal_flip=True,\n",
    "                                   rotation_range=37,\n",
    "                                   vertical_flip=True)\n",
    "\n",
    "train_generator = train_datagen.flow_from_directory(train_dir,\n",
    "                                                    # target_size=(256, 256),\n",
    "                                                    batch_size=batch_size,\n",
    "                                                    subset='training',\n",
    "                                                    class_mode='binary',\n",
    "                                                    color_mode='rgb')\n",
    "\n",
    "\n",
    "valid_generator = train_datagen.flow_from_directory(train_dir,\n",
    "                                                    # target_size=(96, 96), \n",
    "                                                    batch_size=batch_size,\n",
    "                                                    shuffle=False,\n",
    "                                                    subset='validation',\n",
    "                                                    class_mode='binary',\n",
    "                                                    color_mode='rgb')\n",
    "\n",
    "\n",
    "steps=len(train_generator.filenames)//batch_size \n",
    "\n",
    "best_path='./best_val_acc_'+str(int(time.time()))\n",
    "model_checkpoint_callback = keras.callbacks.ModelCheckpoint(\n",
    "    filepath=best_path,\n",
    "    monitor='val_acc',\n",
    "    mode='max',\n",
    "    save_best_only=True,\n",
    "    save_weights_only=True,\n",
    "    initial_value_threshold=0.92)\n",
    "               \n",
    "       \n",
    "\n",
    "def _lrs(epoch, lr):\n",
    "    return lr\n",
    "    \n",
    "lrs = LearningRateScheduler(_lrs) \n",
    " \n",
    "stop = EarlyStopping(\n",
    "        monitor='val_acc',\n",
    "        min_delta=0.0001,\n",
    "        patience=10,\n",
    "        verbose=1,\n",
    "        mode='auto',\n",
    "        baseline=None,\n",
    "        restore_best_weights=True\n",
    ")\n",
    "\n",
    "stop_acc = EarlyStopping(\n",
    "            monitor='acc',\n",
    "            min_delta=0.001,\n",
    "            patience=10,\n",
    "            verbose=1,\n",
    "            mode='auto',\n",
    "            baseline=None,\n",
    "            restore_best_weights=True)\n",
    "\n",
    "logdir='./logs'\n",
    "tensorboard_callback = keras.callbacks.TensorBoard(log_dir=logdir)"
   ]
  },
  {
   "cell_type": "code",
   "execution_count": null,
   "id": "60f40148-30d4-4656-b758-e264817dad83",
   "metadata": {},
   "outputs": [],
   "source": []
  },
  {
   "cell_type": "code",
   "execution_count": 20,
   "id": "CwOLPQDTmS6f",
   "metadata": {
    "id": "CwOLPQDTmS6f"
   },
   "outputs": [],
   "source": [
    "from keras.applications.resnet_v2 import ResNet101V2\n",
    "from keras.applications.densenet import DenseNet121\n",
    "from keras.layers import Input, GlobalAveragePooling2D\n",
    "from keras.preprocessing.image import ImageDataGenerator\n",
    "from keras.layers import (Conv2D, MaxPooling2D, Flatten, Dense, Dropout, BatchNormalization, UpSampling2D, \n",
    "                          concatenate, GlobalAveragePooling2D, Input)\n",
    "from keras.regularizers import l2, l1_l2\n",
    "from keras.constraints import MaxNorm\n",
    "from keras.models import load_model, Sequential\n",
    "from keras.preprocessing import image\n",
    "from keras.applications.resnet_v2 import ResNet50V2, ResNet152V2\n",
    "from keras.applications.xception import Xception\n",
    "from keras.models import Model\n",
    "\n",
    "from keras.callbacks import Callback, EarlyStopping, LearningRateScheduler, ModelCheckpoint, LearningRateScheduler, TensorBoard\n",
    "import sklearn as sk \n",
    "from sklearn.model_selection import train_test_split\n",
    "from sklearn.metrics import accuracy_score, precision_score, recall_score, f1_score, confusion_matrix"
   ]
  },
  {
   "cell_type": "code",
   "execution_count": 21,
   "id": "67c8158b-b071-4aa4-aeb0-64d427aaf56d",
   "metadata": {},
   "outputs": [],
   "source": [
    "def predict(model, file, file_to_class):\n",
    "    base_dir = 'OCT2017/all_data'\n",
    "    if 'CNV' in file:\n",
    "        iclass = 0\n",
    "    elif 'DME' in file:\n",
    "        iclass = 1\n",
    "    elif 'DRUSEN' in file:\n",
    "        iclass = 2\n",
    "    elif 'NORMAL' in file: \n",
    "        iclass = 3\n",
    "    else:\n",
    "        print(f'oops: {file}')\n",
    "    img = Image.open(os.path.join('./OCT2017/all_data', file))\n",
    "    # img = img.resize((256, 256, 3))\n",
    "    np_img = np.array(img.getdata())/255.\n",
    "    print(np_img.shape)\n",
    "    # t = model.predict(np_img)\n",
    "\n",
    "               "
   ]
  },
  {
   "cell_type": "code",
   "execution_count": 22,
   "id": "kdwVAK-AmTCJ",
   "metadata": {
    "colab": {
     "base_uri": "https://localhost:8080/"
    },
    "id": "kdwVAK-AmTCJ",
    "outputId": "924a9f53-9ead-43f3-d044-0a26f6260bf7"
   },
   "outputs": [
    {
     "name": "stderr",
     "output_type": "stream",
     "text": [
      "2022-05-17 06:03:18.226440: I tensorflow/stream_executor/cuda/cuda_gpu_executor.cc:936] successful NUMA node read from SysFS had negative value (-1), but there must be at least one NUMA node, so returning NUMA node zero\n",
      "2022-05-17 06:03:18.266236: I tensorflow/stream_executor/cuda/cuda_gpu_executor.cc:936] successful NUMA node read from SysFS had negative value (-1), but there must be at least one NUMA node, so returning NUMA node zero\n",
      "2022-05-17 06:03:18.266362: I tensorflow/stream_executor/cuda/cuda_gpu_executor.cc:936] successful NUMA node read from SysFS had negative value (-1), but there must be at least one NUMA node, so returning NUMA node zero\n",
      "2022-05-17 06:03:18.267279: I tensorflow/core/platform/cpu_feature_guard.cc:151] This TensorFlow binary is optimized with oneAPI Deep Neural Network Library (oneDNN) to use the following CPU instructions in performance-critical operations:  AVX2 FMA\n",
      "To enable them in other operations, rebuild TensorFlow with the appropriate compiler flags.\n",
      "2022-05-17 06:03:18.267818: I tensorflow/stream_executor/cuda/cuda_gpu_executor.cc:936] successful NUMA node read from SysFS had negative value (-1), but there must be at least one NUMA node, so returning NUMA node zero\n",
      "2022-05-17 06:03:18.267922: I tensorflow/stream_executor/cuda/cuda_gpu_executor.cc:936] successful NUMA node read from SysFS had negative value (-1), but there must be at least one NUMA node, so returning NUMA node zero\n",
      "2022-05-17 06:03:18.268012: I tensorflow/stream_executor/cuda/cuda_gpu_executor.cc:936] successful NUMA node read from SysFS had negative value (-1), but there must be at least one NUMA node, so returning NUMA node zero\n",
      "2022-05-17 06:03:18.706477: I tensorflow/stream_executor/cuda/cuda_gpu_executor.cc:936] successful NUMA node read from SysFS had negative value (-1), but there must be at least one NUMA node, so returning NUMA node zero\n",
      "2022-05-17 06:03:18.706611: I tensorflow/stream_executor/cuda/cuda_gpu_executor.cc:936] successful NUMA node read from SysFS had negative value (-1), but there must be at least one NUMA node, so returning NUMA node zero\n",
      "2022-05-17 06:03:18.706711: I tensorflow/stream_executor/cuda/cuda_gpu_executor.cc:936] successful NUMA node read from SysFS had negative value (-1), but there must be at least one NUMA node, so returning NUMA node zero\n",
      "2022-05-17 06:03:18.706798: I tensorflow/core/common_runtime/gpu/gpu_device.cc:1525] Created device /job:localhost/replica:0/task:0/device:GPU:0 with 10248 MB memory:  -> device: 0, name: NVIDIA GeForce RTX 3060, pci bus id: 0000:08:00.0, compute capability: 8.6\n"
     ]
    }
   ],
   "source": [
    "resnet101V2 = ResNet101V2(include_top=False, weights='imagenet', # input_tensor=Input(shape=(256, 256)), \n",
    "                          input_shape=(256, 256, 3), classes=4, classifier_activation='sofmax')"
   ]
  },
  {
   "cell_type": "code",
   "execution_count": 23,
   "id": "4f0d17cc-d88c-43c6-a9b8-b5d7ac3118a9",
   "metadata": {},
   "outputs": [
    {
     "name": "stdout",
     "output_type": "stream",
     "text": [
      "post_relu\n"
     ]
    }
   ],
   "source": [
    "print(resnet101V2.layers[-1].name)"
   ]
  },
  {
   "cell_type": "code",
   "execution_count": 24,
   "id": "Na4i7ldImg4g",
   "metadata": {
    "id": "Na4i7ldImg4g"
   },
   "outputs": [],
   "source": [
    "res101V2_out = GlobalAveragePooling2D()(resnet101V2.layers[-1].output)\n",
    "res101V2_out = Dense(512, activation='leaky_relu')(res101V2_out)\n",
    "res101V2_out = Dense(128, activation='leaky_relu')(res101V2_out)\n",
    "pred_res101V2 = Dense(4, activation='softmax')(res101V2_out) "
   ]
  },
  {
   "cell_type": "code",
   "execution_count": 25,
   "id": "e6f5f168-55e8-4365-a4fc-fce751f0abb9",
   "metadata": {},
   "outputs": [
    {
     "name": "stdout",
     "output_type": "stream",
     "text": [
      "KerasTensor(type_spec=TensorSpec(shape=(None, 4), dtype=tf.float32, name=None), name='dense_2/Softmax:0', description=\"created by layer 'dense_2'\")\n"
     ]
    }
   ],
   "source": [
    "print(pred_res101V2)"
   ]
  },
  {
   "cell_type": "code",
   "execution_count": 26,
   "id": "W6SwmKqimg9R",
   "metadata": {
    "colab": {
     "base_uri": "https://localhost:8080/"
    },
    "id": "W6SwmKqimg9R",
    "outputId": "99bda22f-05e6-4175-b32f-4627adf6b9cb"
   },
   "outputs": [],
   "source": [
    "res101_model = Model(inputs=resnet101V2.input, outputs=pred_res101V2) # resnet50v2.input\n",
    "res101_model.compile(optimizer=keras.optimizers.adam_v2.Adam(learning_rate=0.00001), loss='sparse_categorical_crossentropy', metrics=['acc'])\n",
    "# res101_model.summary()\n"
   ]
  },
  {
   "cell_type": "code",
   "execution_count": 27,
   "id": "13d60ff7-59d8-42df-81a1-b86d7934e72e",
   "metadata": {},
   "outputs": [
    {
     "data": {
      "text/plain": [
       "{'CNV': 0, 'DME': 1, 'DRUSEN': 2, 'NORMAL': 3}"
      ]
     },
     "execution_count": 27,
     "metadata": {},
     "output_type": "execute_result"
    }
   ],
   "source": [
    "valid_generator.class_indices"
   ]
  },
  {
   "cell_type": "code",
   "execution_count": 28,
   "id": "915e0950-828f-479e-a6c7-2d12416fa8bc",
   "metadata": {},
   "outputs": [
    {
     "data": {
      "text/plain": [
       "16696"
      ]
     },
     "execution_count": 28,
     "metadata": {},
     "output_type": "execute_result"
    }
   ],
   "source": [
    "len(valid_generator.classes)\n"
   ]
  },
  {
   "cell_type": "code",
   "execution_count": 29,
   "id": "3Fyh4AfVuZM5",
   "metadata": {
    "id": "3Fyh4AfVuZM5"
   },
   "outputs": [],
   "source": [
    "for l in res101_model.layers:\n",
    "    train = False\n",
    "    if l.name == 'conv4_block1_preact_bn':\n",
    "        train = True\n",
    "        l.trainable = True\n",
    "    elif train:\n",
    "        l.trainable = True\n",
    "    else:\n",
    "        l.trainable = False"
   ]
  },
  {
   "cell_type": "code",
   "execution_count": 30,
   "id": "c64bf145-ef35-4be4-8cb1-91e3929cd5f9",
   "metadata": {},
   "outputs": [
    {
     "name": "stdout",
     "output_type": "stream",
     "text": [
      "16697\n",
      "40\n",
      "4\n"
     ]
    }
   ],
   "source": [
    "print(steps)\n",
    "print(epochs)\n",
    "print(batch_size)\n",
    "# res101_model.summary()"
   ]
  },
  {
   "cell_type": "code",
   "execution_count": 31,
   "id": "Ek8GRhdfmhBq",
   "metadata": {
    "colab": {
     "base_uri": "https://localhost:8080/"
    },
    "id": "Ek8GRhdfmhBq",
    "outputId": "74754c61-56a3-4db0-9a1e-ec4fb646850a"
   },
   "outputs": [
    {
     "name": "stdout",
     "output_type": "stream",
     "text": [
      "Epoch 1/40\n"
     ]
    },
    {
     "name": "stderr",
     "output_type": "stream",
     "text": [
      "2022-05-17 06:03:27.345646: I tensorflow/stream_executor/cuda/cuda_dnn.cc:368] Loaded cuDNN version 8302\n",
      "2022-05-17 06:03:28.900798: I tensorflow/stream_executor/cuda/cuda_blas.cc:1786] TensorFloat-32 will be used for the matrix multiplication. This will only be logged once.\n"
     ]
    },
    {
     "name": "stdout",
     "output_type": "stream",
     "text": [
      "16697/16697 [==============================] - 1719s 103ms/step - loss: 0.2870 - acc: 0.9017 - val_loss: 0.1908 - val_acc: 0.9397\n",
      "Epoch 2/40\n",
      "16697/16697 [==============================] - 1414s 85ms/step - loss: 0.1724 - acc: 0.9413 - val_loss: 0.1493 - val_acc: 0.9519\n",
      "Epoch 3/40\n",
      "16697/16697 [==============================] - 1421s 85ms/step - loss: 0.1474 - acc: 0.9495 - val_loss: 0.1522 - val_acc: 0.9508\n",
      "Epoch 4/40\n",
      "16697/16697 [==============================] - 1423s 85ms/step - loss: 0.1329 - acc: 0.9546 - val_loss: 0.1502 - val_acc: 0.9516\n",
      "Epoch 5/40\n",
      "16697/16697 [==============================] - 1424s 85ms/step - loss: 0.1212 - acc: 0.9590 - val_loss: 0.1433 - val_acc: 0.9533\n",
      "Epoch 6/40\n",
      "16697/16697 [==============================] - 1425s 85ms/step - loss: 0.1162 - acc: 0.9606 - val_loss: 0.1574 - val_acc: 0.9505\n",
      "Epoch 7/40\n",
      "16697/16697 [==============================] - 1427s 85ms/step - loss: 0.1078 - acc: 0.9632 - val_loss: 0.1713 - val_acc: 0.9481\n",
      "Epoch 8/40\n",
      "16697/16697 [==============================] - 1424s 85ms/step - loss: 0.1038 - acc: 0.9650 - val_loss: 0.1674 - val_acc: 0.9482\n",
      "Epoch 9/40\n",
      "16697/16697 [==============================] - 1421s 85ms/step - loss: 0.0953 - acc: 0.9674 - val_loss: 0.1350 - val_acc: 0.9577\n",
      "Epoch 10/40\n",
      "16697/16697 [==============================] - 1428s 86ms/step - loss: 0.0921 - acc: 0.9690 - val_loss: 0.1689 - val_acc: 0.9527\n",
      "Epoch 11/40\n",
      "16697/16697 [==============================] - 1421s 85ms/step - loss: 0.0894 - acc: 0.9701 - val_loss: 0.3259 - val_acc: 0.9348\n",
      "Epoch 12/40\n",
      "16697/16697 [==============================] - 1431s 86ms/step - loss: 0.0860 - acc: 0.9711 - val_loss: 0.3432 - val_acc: 0.9453\n",
      "Epoch 13/40\n",
      "16697/16697 [==============================] - 1426s 85ms/step - loss: 0.0847 - acc: 0.9707 - val_loss: 0.1595 - val_acc: 0.9536\n",
      "Epoch 14/40\n",
      "16697/16697 [==============================] - 1423s 85ms/step - loss: 0.0803 - acc: 0.9728 - val_loss: 0.1570 - val_acc: 0.9535\n",
      "Epoch 15/40\n",
      "16697/16697 [==============================] - 1424s 85ms/step - loss: 0.0779 - acc: 0.9739 - val_loss: 0.1493 - val_acc: 0.9550\n",
      "Epoch 16/40\n",
      "16697/16697 [==============================] - 1419s 85ms/step - loss: 0.0741 - acc: 0.9744 - val_loss: 0.1940 - val_acc: 0.9500\n",
      "Epoch 17/40\n",
      "16697/16697 [==============================] - 1424s 85ms/step - loss: 0.0745 - acc: 0.9748 - val_loss: 0.2435 - val_acc: 0.9491\n",
      "Epoch 18/40\n",
      "16697/16697 [==============================] - 1422s 85ms/step - loss: 0.0727 - acc: 0.9752 - val_loss: 0.1726 - val_acc: 0.9547\n",
      "Epoch 19/40\n",
      "16697/16697 [==============================] - 1417s 85ms/step - loss: 0.0678 - acc: 0.9762 - val_loss: 0.2045 - val_acc: 0.9480\n",
      "Epoch 20/40\n",
      "16697/16697 [==============================] - 1421s 85ms/step - loss: 0.0666 - acc: 0.9766 - val_loss: 0.3612 - val_acc: 0.9436\n",
      "Epoch 21/40\n",
      "16697/16697 [==============================] - 1417s 85ms/step - loss: 0.0643 - acc: 0.9769 - val_loss: 0.1601 - val_acc: 0.9532\n",
      "Epoch 22/40\n",
      "16697/16697 [==============================] - 1418s 85ms/step - loss: 0.0635 - acc: 0.9778 - val_loss: 0.2802 - val_acc: 0.9514\n",
      "Epoch 23/40\n",
      "16697/16697 [==============================] - 1418s 85ms/step - loss: 0.0633 - acc: 0.9783 - val_loss: 0.1782 - val_acc: 0.9520\n",
      "Epoch 24/40\n",
      "16697/16697 [==============================] - 1402s 84ms/step - loss: 0.0635 - acc: 0.9776 - val_loss: 0.2194 - val_acc: 0.9532\n",
      "Epoch 25/40\n",
      "16697/16697 [==============================] - 1409s 84ms/step - loss: 0.0602 - acc: 0.9791 - val_loss: 0.2171 - val_acc: 0.9479\n",
      "Epoch 26/40\n",
      "16697/16697 [==============================] - 1409s 84ms/step - loss: 0.0583 - acc: 0.9794 - val_loss: 0.1574 - val_acc: 0.9528\n",
      "Epoch 27/40\n",
      "16697/16697 [==============================] - 1408s 84ms/step - loss: 0.0572 - acc: 0.9804 - val_loss: 0.2877 - val_acc: 0.9308\n",
      "Epoch 28/40\n",
      "16697/16697 [==============================] - 1405s 84ms/step - loss: 0.0566 - acc: 0.9798 - val_loss: 0.1774 - val_acc: 0.9538\n",
      "Epoch 29/40\n",
      "16697/16697 [==============================] - 1404s 84ms/step - loss: 0.0553 - acc: 0.9809 - val_loss: 0.2595 - val_acc: 0.9478\n",
      "Epoch 30/40\n",
      "16697/16697 [==============================] - 1411s 84ms/step - loss: 0.0555 - acc: 0.9808 - val_loss: 0.1598 - val_acc: 0.9563\n",
      "Epoch 31/40\n",
      "16697/16697 [==============================] - 1405s 84ms/step - loss: 0.0530 - acc: 0.9817 - val_loss: 0.2240 - val_acc: 0.9469\n",
      "Epoch 32/40\n",
      "16697/16697 [==============================] - 1409s 84ms/step - loss: 0.0536 - acc: 0.9813 - val_loss: 0.2051 - val_acc: 0.9517\n",
      "Epoch 33/40\n",
      "16697/16697 [==============================] - 1395s 84ms/step - loss: 0.0523 - acc: 0.9816 - val_loss: 0.1772 - val_acc: 0.9600\n",
      "Epoch 34/40\n",
      "16697/16697 [==============================] - 1407s 84ms/step - loss: 0.0512 - acc: 0.9819 - val_loss: 0.2196 - val_acc: 0.9525\n",
      "Epoch 35/40\n",
      "16697/16697 [==============================] - 1417s 85ms/step - loss: 0.0495 - acc: 0.9821 - val_loss: 0.3243 - val_acc: 0.9466\n",
      "Epoch 36/40\n",
      "16697/16697 [==============================] - 1416s 85ms/step - loss: 0.0490 - acc: 0.9827 - val_loss: 0.2063 - val_acc: 0.9538\n",
      "Epoch 37/40\n",
      "16697/16697 [==============================] - 1413s 85ms/step - loss: 0.0477 - acc: 0.9834 - val_loss: 0.2229 - val_acc: 0.9533\n",
      "Epoch 38/40\n",
      "16697/16697 [==============================] - 1409s 84ms/step - loss: 0.0478 - acc: 0.9832 - val_loss: 0.1705 - val_acc: 0.9587\n",
      "Epoch 39/40\n",
      "16697/16697 [==============================] - 1411s 85ms/step - loss: 0.0468 - acc: 0.9834 - val_loss: 0.1815 - val_acc: 0.9546\n",
      "Epoch 40/40\n",
      "16697/16697 [==============================] - 1406s 84ms/step - loss: 0.0475 - acc: 0.9832 - val_loss: 0.1870 - val_acc: 0.9545\n"
     ]
    }
   ],
   "source": [
    "history = res101_model.fit(train_generator, \n",
    "                           steps_per_epoch=steps,\n",
    "                           epochs=epochs,\n",
    "                           verbose=1,\n",
    "                           validation_data=valid_generator,\n",
    "                           callbacks=[tensorboard_callback, model_checkpoint_callback])"
   ]
  },
  {
   "cell_type": "code",
   "execution_count": null,
   "id": "2b096490-0e48-44ba-9eb2-7940a1499b95",
   "metadata": {},
   "outputs": [],
   "source": []
  },
  {
   "cell_type": "code",
   "execution_count": 32,
   "id": "RqrJDuqLmhF1",
   "metadata": {
    "id": "RqrJDuqLmhF1"
   },
   "outputs": [
    {
     "name": "stdout",
     "output_type": "stream",
     "text": [
      "0 input_1 False\n"
     ]
    }
   ],
   "source": [
    "for i, l in enumerate(res101_model.layers):\n",
    "    print(i, l.name, l.trainable)\n",
    "    break"
   ]
  },
  {
   "cell_type": "code",
   "execution_count": 33,
   "id": "lZF7PVR9mTKk",
   "metadata": {
    "id": "lZF7PVR9mTKk"
   },
   "outputs": [
    {
     "data": {
      "text/plain": [
       "<matplotlib.legend.Legend at 0x7fdf8862d4e0>"
      ]
     },
     "execution_count": 33,
     "metadata": {},
     "output_type": "execute_result"
    },
    {
     "data": {
      "image/png": "[encoded data removed]",
      "text/plain": [
       "<Figure size 1800x720 with 1 Axes>"
      ]
     },
     "metadata": {},
     "output_type": "display_data"
    }
   ],
   "source": [
    "fig = plt.gcf()\n",
    "fig.set_size_inches(25, 10)\n",
    "plt.plot(history.history['acc'], label='acc')\n",
    "plt.plot(history.history['val_acc'], label='val_acc')\n",
    "plt.legend()"
   ]
  },
  {
   "cell_type": "code",
   "execution_count": 34,
   "id": "dCyugLzqmTS8",
   "metadata": {
    "id": "dCyugLzqmTS8"
   },
   "outputs": [
    {
     "data": {
      "text/plain": [
       "<matplotlib.legend.Legend at 0x7fdf88179f60>"
      ]
     },
     "execution_count": 34,
     "metadata": {},
     "output_type": "execute_result"
    },
    {
     "data": {
      "image/png": "[encoded data removed]",
      "text/plain": [
       "<Figure size 1800x720 with 1 Axes>"
      ]
     },
     "metadata": {},
     "output_type": "display_data"
    }
   ],
   "source": [
    "fig = plt.gcf()\n",
    "fig.set_size_inches(25, 10)\n",
    "plt.plot(history.history['loss'], label='loss')\n",
    "plt.plot(history.history['val_loss'], label='val_loss')\n",
    "plt.legend()"
   ]
  },
  {
   "cell_type": "code",
   "execution_count": 35,
   "id": "2c7ff617-a73d-4ab0-9fbd-12152c44f186",
   "metadata": {},
   "outputs": [],
   "source": [
    "# best_res101 = tf.saved_model.load(best_path)"
   ]
  },
  {
   "cell_type": "code",
   "execution_count": null,
   "id": "aceaf6e2-e3f8-4916-95f9-3b812028fa9f",
   "metadata": {},
   "outputs": [],
   "source": []
  },
  {
   "cell_type": "code",
   "execution_count": 36,
   "id": "ee7f1975-c257-47e3-b1c2-eb48ade5520e",
   "metadata": {},
   "outputs": [],
   "source": [
    "y_pred = res101_model.predict(valid_generator)"
   ]
  },
  {
   "cell_type": "code",
   "execution_count": 38,
   "id": "c307da08-a061-4469-be17-0cd68b264da2",
   "metadata": {},
   "outputs": [
    {
     "name": "stdout",
     "output_type": "stream",
     "text": [
      "[0 0 0 0 0 0 0 0 0 0]\n",
      "[0 0 0 0 0 0 0 0 0 0]\n"
     ]
    }
   ],
   "source": [
    "y_pred_bool = np.argmax(y_pred, axis=1)\n",
    "y_test = valid_generator.classes\n",
    "print(y_pred_bool[:10])\n",
    "print(y_test[:10])"
   ]
  },
  {
   "cell_type": "code",
   "execution_count": 39,
   "id": "8faf4307-b04b-484a-ba6f-e3258713773f",
   "metadata": {},
   "outputs": [
    {
     "data": {
      "text/plain": [
       "array([[7188,   60,  162,   31],\n",
       "       [  36, 2051,    7,  175],\n",
       "       [  99,   15, 1462,  147],\n",
       "       [   5,   18,   51, 5189]])"
      ]
     },
     "execution_count": 39,
     "metadata": {},
     "output_type": "execute_result"
    }
   ],
   "source": [
    "confusion_matrix(y_test, y_pred_bool)"
   ]
  },
  {
   "cell_type": "code",
   "execution_count": 40,
   "id": "oxn3_moYuXXt",
   "metadata": {
    "id": "oxn3_moYuXXt"
   },
   "outputs": [
    {
     "data": {
      "text/plain": [
       "0.9517249640632487"
      ]
     },
     "execution_count": 40,
     "metadata": {},
     "output_type": "execute_result"
    }
   ],
   "source": [
    "accuracy_score(y_test, y_pred_bool)"
   ]
  },
  {
   "cell_type": "code",
   "execution_count": 41,
   "id": "89ab52ca-51e2-4521-874d-cf67c19e3bda",
   "metadata": {},
   "outputs": [
    {
     "name": "stdout",
     "output_type": "stream",
     "text": [
      "              precision    recall  f1-score   support\n",
      "\n",
      "         CNV       0.98      0.97      0.97      7441\n",
      "         DME       0.96      0.90      0.93      2269\n",
      "      DRUSEN       0.87      0.85      0.86      1723\n",
      "      NORMAL       0.94      0.99      0.96      5263\n",
      "\n",
      "    accuracy                           0.95     16696\n",
      "   macro avg       0.94      0.93      0.93     16696\n",
      "weighted avg       0.95      0.95      0.95     16696\n",
      "\n"
     ]
    }
   ],
   "source": [
    "print(classification_report(y_test, np.squeeze(y_pred_bool), target_names=list(valid_generator.class_indices.keys())))"
   ]
  },
  {
   "cell_type": "code",
   "execution_count": 44,
   "id": "e8e54014-bae0-4325-b0e1-38a9316bae83",
   "metadata": {},
   "outputs": [
    {
     "data": {
      "text/plain": [
       "<AxesSubplot:>"
      ]
     },
     "execution_count": 44,
     "metadata": {},
     "output_type": "execute_result"
    },
    {
     "data": {
      "image/png": "[encoded data removed]",
      "text/plain": [
       "<Figure size 432x288 with 2 Axes>"
      ]
     },
     "metadata": {},
     "output_type": "display_data"
    }
   ],
   "source": [
    "import seaborn as sns\n",
    "sns.heatmap(confusion_matrix(y_test, y_pred_bool), annot=True, fmt='5d')"
   ]
  },
  {
   "cell_type": "code",
   "execution_count": 45,
   "id": "6365d86f-e1a6-4bc1-aa33-6b9472c3fc75",
   "metadata": {},
   "outputs": [
    {
     "name": "stderr",
     "output_type": "stream",
     "text": [
      "2022-05-17 21:57:39.926547: W tensorflow/python/util/util.cc:368] Sets are not currently considered sequences, but this may change in the future, so consider avoiding using them.\n"
     ]
    },
    {
     "name": "stdout",
     "output_type": "stream",
     "text": [
      "INFO:tensorflow:Assets written to: ./res101_full/assets\n"
     ]
    }
   ],
   "source": [
    "tf.saved_model.save(res101_model, \"./res101_full\")"
   ]
  },
  {
   "cell_type": "code",
   "execution_count": 47,
   "id": "51645af9-5ed8-4809-a140-3a68c59b3457",
   "metadata": {},
   "outputs": [],
   "source": [
    "loaded = tf.saved_model.load(\"./res101_full\")\n",
    "converter = tf.lite.TFLiteConverter.from_saved_model(\"./res101_full\")"
   ]
  },
  {
   "cell_type": "code",
   "execution_count": 48,
   "id": "05d24fcc-fc41-44dd-bfcc-d0e395789f2a",
   "metadata": {},
   "outputs": [
    {
     "name": "stderr",
     "output_type": "stream",
     "text": [
      "2022-05-17 21:58:22.950081: W tensorflow/compiler/mlir/lite/python/tf_tfl_flatbuffer_helpers.cc:357] Ignored output_format.\n",
      "2022-05-17 21:58:22.950109: W tensorflow/compiler/mlir/lite/python/tf_tfl_flatbuffer_helpers.cc:360] Ignored drop_control_dependency.\n",
      "2022-05-17 21:58:22.950563: I tensorflow/cc/saved_model/reader.cc:43] Reading SavedModel from: ./res101_full\n",
      "2022-05-17 21:58:22.979962: I tensorflow/cc/saved_model/reader.cc:78] Reading meta graph with tags { serve }\n",
      "2022-05-17 21:58:22.979977: I tensorflow/cc/saved_model/reader.cc:119] Reading SavedModel debug info (if present) from: ./res101_full\n",
      "2022-05-17 21:58:23.095564: I tensorflow/cc/saved_model/loader.cc:228] Restoring SavedModel bundle.\n",
      "2022-05-17 21:58:24.216915: I tensorflow/cc/saved_model/loader.cc:212] Running initialization op on SavedModel bundle at path: ./res101_full\n",
      "2022-05-17 21:58:24.537025: I tensorflow/cc/saved_model/loader.cc:301] SavedModel load for tags { serve }; Status: success: OK. Took 1586463 microseconds.\n",
      "2022-05-17 21:58:25.044131: I tensorflow/compiler/mlir/tensorflow/utils/dump_mlir_util.cc:237] disabling MLIR crash reproducer, set env var `MLIR_CRASH_REPRODUCER_DIRECTORY` to enable.\n",
      "WARNING:absl:Buffer deduplication procedure will be skipped when flatbuffer library is not properly loaded\n"
     ]
    }
   ],
   "source": [
    "tflite_full_path = \"./tflite_res101_full\"\n",
    "with open(tflite_full_path, \"wb\") as f:\n",
    "    f.write(converter.convert())"
   ]
  },
  {
   "cell_type": "code",
   "execution_count": 49,
   "id": "8632487e-721d-4708-b33b-763d6f03ca6a",
   "metadata": {},
   "outputs": [],
   "source": [
    "with open(tflite_full_path, \"rb\") as f:\n",
    "    tflite_res101_full = f.read()"
   ]
  },
  {
   "cell_type": "code",
   "execution_count": 51,
   "id": "0cafadb3-17f0-4994-bebe-3776be2332e5",
   "metadata": {},
   "outputs": [],
   "source": [
    "interpreter_res101_full = tf.lite.Interpreter(model_content=tflite_res101_full)\n",
    "interpreter_res101_full.allocate_tensors()\n",
    "input_index = interpreter_res101_full.get_input_details()[0][\"index\"]\n",
    "output_index = interpreter_res101_full.get_output_details()[0][\"index\"]\n"
   ]
  },
  {
   "cell_type": "code",
   "execution_count": null,
   "id": "61a01343-f968-4b55-a06e-9bfaf1261c79",
   "metadata": {},
   "outputs": [],
   "source": []
  },
  {
   "cell_type": "code",
   "execution_count": null,
   "id": "e8f5a04d-fee2-495d-a5ae-3d83200fa831",
   "metadata": {},
   "outputs": [],
   "source": []
  },
  {
   "cell_type": "code",
   "execution_count": null,
   "id": "b683a2cb-54db-4440-b88c-443f3eef3597",
   "metadata": {},
   "outputs": [],
   "source": []
  },
  {
   "cell_type": "code",
   "execution_count": null,
   "id": "38bf0d8c-fdab-4472-9845-d2f6cf8ada0a",
   "metadata": {},
   "outputs": [],
   "source": []
  },
  {
   "cell_type": "code",
   "execution_count": 52,
   "id": "4805770e-0596-43c0-8cc3-e5b9a001ceb5",
   "metadata": {},
   "outputs": [
    {
     "data": {
      "text/plain": [
       "<tensorflow.python.training.tracking.util.CheckpointLoadStatus at 0x7fdb4dac2b60>"
      ]
     },
     "execution_count": 52,
     "metadata": {},
     "output_type": "execute_result"
    }
   ],
   "source": [
    "res101_model.load_weights(best_path)"
   ]
  },
  {
   "cell_type": "code",
   "execution_count": 53,
   "id": "2531c193-dd5c-44d6-9029-ed29b7672d80",
   "metadata": {},
   "outputs": [],
   "source": [
    "y_pred = res101_model.predict(valid_generator)"
   ]
  },
  {
   "cell_type": "code",
   "execution_count": 54,
   "id": "7d32c40f-9621-499b-ad1f-0e1fc1f3fcbe",
   "metadata": {},
   "outputs": [],
   "source": [
    "y_pred_bool = np.argmax(y_pred, axis=1)"
   ]
  },
  {
   "cell_type": "code",
   "execution_count": 55,
   "id": "1a9a206a-4d3b-4528-9201-b35dbe498e68",
   "metadata": {},
   "outputs": [
    {
     "data": {
      "text/plain": [
       "array([[7218,   73,  138,   12],\n",
       "       [  29, 2138,    5,   97],\n",
       "       [  92,   10, 1503,  118],\n",
       "       [   8,   30,   49, 5176]])"
      ]
     },
     "execution_count": 55,
     "metadata": {},
     "output_type": "execute_result"
    }
   ],
   "source": [
    "confusion_matrix(y_test, y_pred_bool)"
   ]
  },
  {
   "cell_type": "code",
   "execution_count": 56,
   "id": "a25aa540-aee1-4787-9fbe-3eb6a0716232",
   "metadata": {},
   "outputs": [
    {
     "data": {
      "text/plain": [
       "0.9604096789650216"
      ]
     },
     "execution_count": 56,
     "metadata": {},
     "output_type": "execute_result"
    }
   ],
   "source": [
    "accuracy_score(y_test, y_pred_bool)"
   ]
  },
  {
   "cell_type": "code",
   "execution_count": 57,
   "id": "2bf0739b-2854-4470-84a5-af0fd8c98683",
   "metadata": {},
   "outputs": [
    {
     "name": "stdout",
     "output_type": "stream",
     "text": [
      "              precision    recall  f1-score   support\n",
      "\n",
      "         CNV       0.98      0.97      0.98      7441\n",
      "         DME       0.95      0.94      0.95      2269\n",
      "      DRUSEN       0.89      0.87      0.88      1723\n",
      "      NORMAL       0.96      0.98      0.97      5263\n",
      "\n",
      "    accuracy                           0.96     16696\n",
      "   macro avg       0.94      0.94      0.94     16696\n",
      "weighted avg       0.96      0.96      0.96     16696\n",
      "\n"
     ]
    }
   ],
   "source": [
    "print(classification_report(y_test, np.squeeze(y_pred_bool), target_names=list(valid_generator.class_indices.keys())))"
   ]
  },
  {
   "cell_type": "code",
   "execution_count": 65,
   "id": "2a604cca-c984-455b-a03e-f2ee03ab5537",
   "metadata": {},
   "outputs": [
    {
     "data": {
      "image/png": "[encoded data removed]",
      "text/plain": [
       "<Figure size 432x288 with 2 Axes>"
      ]
     },
     "metadata": {},
     "output_type": "display_data"
    }
   ],
   "source": [
    "import seaborn as sns\n",
    "res101_heatmap = sns.heatmap(confusion_matrix(y_test, y_pred_bool), annot=True, fmt='5d')"
   ]
  },
  {
   "cell_type": "code",
   "execution_count": 70,
   "id": "a05ba5cc-d0e2-43ae-ab47-731bc2c842e5",
   "metadata": {},
   "outputs": [],
   "source": [
    "res101_heatmap.figure.savefig('res101_heatmap.png')"
   ]
  },
  {
   "cell_type": "code",
   "execution_count": 59,
   "id": "adcbe2e1-5c1a-491c-94f7-23cdab788c5e",
   "metadata": {},
   "outputs": [
    {
     "name": "stdout",
     "output_type": "stream",
     "text": [
      "INFO:tensorflow:Assets written to: ./res101_best/assets\n"
     ]
    },
    {
     "name": "stderr",
     "output_type": "stream",
     "text": [
      "INFO:tensorflow:Assets written to: ./res101_best/assets\n"
     ]
    }
   ],
   "source": [
    "tf.saved_model.save(res101_model, \"./res101_best\")"
   ]
  },
  {
   "cell_type": "code",
   "execution_count": null,
   "id": "3f3f3c8f-27d5-482e-9a1b-60b5e418747b",
   "metadata": {},
   "outputs": [],
   "source": []
  },
  {
   "cell_type": "code",
   "execution_count": 61,
   "id": "6feee764-b872-4833-9f2d-a7fbaedf029f",
   "metadata": {},
   "outputs": [],
   "source": [
    "loaded = tf.saved_model.load(\"./res101_best\")\n",
    "converter = tf.lite.TFLiteConverter.from_saved_model(\"./res101_best\")"
   ]
  },
  {
   "cell_type": "code",
   "execution_count": 62,
   "id": "0d79c0a6-cee1-4793-85ff-8a7e59dc30b3",
   "metadata": {},
   "outputs": [
    {
     "name": "stderr",
     "output_type": "stream",
     "text": [
      "2022-05-17 22:03:57.170014: W tensorflow/compiler/mlir/lite/python/tf_tfl_flatbuffer_helpers.cc:357] Ignored output_format.\n",
      "2022-05-17 22:03:57.170048: W tensorflow/compiler/mlir/lite/python/tf_tfl_flatbuffer_helpers.cc:360] Ignored drop_control_dependency.\n",
      "2022-05-17 22:03:57.170182: I tensorflow/cc/saved_model/reader.cc:43] Reading SavedModel from: ./res101_best\n",
      "2022-05-17 22:03:57.202523: I tensorflow/cc/saved_model/reader.cc:78] Reading meta graph with tags { serve }\n",
      "2022-05-17 22:03:57.202539: I tensorflow/cc/saved_model/reader.cc:119] Reading SavedModel debug info (if present) from: ./res101_best\n",
      "2022-05-17 22:03:57.324007: I tensorflow/cc/saved_model/loader.cc:228] Restoring SavedModel bundle.\n",
      "2022-05-17 22:03:58.475112: I tensorflow/cc/saved_model/loader.cc:212] Running initialization op on SavedModel bundle at path: ./res101_best\n",
      "2022-05-17 22:03:58.814846: I tensorflow/cc/saved_model/loader.cc:301] SavedModel load for tags { serve }; Status: success: OK. Took 1644664 microseconds.\n",
      "WARNING:absl:Buffer deduplication procedure will be skipped when flatbuffer library is not properly loaded\n"
     ]
    }
   ],
   "source": [
    "tflite_best_path = \"./tflite_res101_best\"\n",
    "with open(tflite_best_path, \"wb\") as f:\n",
    "    f.write(converter.convert())"
   ]
  },
  {
   "cell_type": "code",
   "execution_count": 63,
   "id": "3b84cd6d-1fbe-4ccb-8f84-5e5a20531681",
   "metadata": {},
   "outputs": [],
   "source": [
    "with open(tflite_full_path, \"rb\") as f:\n",
    "    tflite_res101_best = f.read()"
   ]
  },
  {
   "cell_type": "code",
   "execution_count": 64,
   "id": "b916974a-88a7-485d-81b6-a84a74379863",
   "metadata": {},
   "outputs": [],
   "source": [
    "interpreter_res101_best = tf.lite.Interpreter(model_content=tflite_res101_best)\n",
    "interpreter_res101_best.allocate_tensors()\n",
    "input_index = interpreter_res101_best.get_input_details()[0][\"index\"]\n",
    "output_index = interpreter_res101_best.get_output_details()[0][\"index\"]"
   ]
  },
  {
   "cell_type": "code",
   "execution_count": null,
   "id": "b223410d-6a6e-4b76-8c28-d14370a6eb0b",
   "metadata": {},
   "outputs": [],
   "source": []
  },
  {
   "cell_type": "code",
   "execution_count": null,
   "id": "590cf4a5-a6bd-40d4-a383-172bee8d92f6",
   "metadata": {},
   "outputs": [],
   "source": []
  },
  {
   "cell_type": "code",
   "execution_count": null,
   "id": "fffed33d-38be-4204-ad5f-26366c8eb9c0",
   "metadata": {},
   "outputs": [],
   "source": []
  },
  {
   "cell_type": "code",
   "execution_count": null,
   "id": "2a0870b2-302c-4481-9aa2-70d0bfa160f4",
   "metadata": {},
   "outputs": [],
   "source": []
  },
  {
   "cell_type": "code",
   "execution_count": null,
   "id": "b25bcdc5-10c0-42e8-a4d8-a152149d6e1e",
   "metadata": {},
   "outputs": [],
   "source": [
    "\n"
   ]
  },
  {
   "cell_type": "code",
   "execution_count": null,
   "id": "71caefd2-5b55-4d47-a4a2-48a0574c3fb4",
   "metadata": {},
   "outputs": [],
   "source": [
    "tf.keras.Model.save(res101_model, \"./keras_res101\")"
   ]
  },
  {
   "cell_type": "code",
   "execution_count": null,
   "id": "1bd1fbca-d17b-4d5d-91ef-8c651a8ce09a",
   "metadata": {},
   "outputs": [],
   "source": [
    "loaded_model = Model(inputs=resnet101V2.input, outputs=pred_res101V2) # resnet50v2.input\n",
    "loaded_model.compile(optimizer=keras.optimizers.adam_v2.Adam(learning_rate=0.00001), loss='sparse_categorical_crossentropy', metrics=['acc'])\n"
   ]
  },
  {
   "cell_type": "code",
   "execution_count": null,
   "id": "2e9c1283-1c2d-4ede-a930-d250da6804fd",
   "metadata": {},
   "outputs": [],
   "source": []
  },
  {
   "cell_type": "code",
   "execution_count": null,
   "id": "66b6b9f9-b705-4d2b-b116-ead57e1a507f",
   "metadata": {},
   "outputs": [],
   "source": [
    "best_path_dense='./best_val_acc_'+str(int(time.time()))\n",
    "model_checkpoint_callback_dense = keras.callbacks.ModelCheckpoint(\n",
    "    filepath=best_path_dense,\n",
    "    monitor='val_acc',\n",
    "    mode='max',\n",
    "    save_best_only=True,\n",
    "    save_weights_only=True,\n",
    "    initial_value_threshold=0.92)"
   ]
  },
  {
   "cell_type": "code",
   "execution_count": null,
   "id": "03af3f57-42af-40eb-ab55-f9e2b19aceae",
   "metadata": {},
   "outputs": [],
   "source": [
    "densenet121 = DenseNet121(include_top=False, weights='imagenet', input_tensor=Input(shape=(256, 256, 3)), \n",
    "                          input_shape=(256, 256, 3), classes=4) #, classifier_activation='softmax')"
   ]
  },
  {
   "cell_type": "code",
   "execution_count": null,
   "id": "f16c8fab-63f2-4c1f-92c2-9da82494f01e",
   "metadata": {},
   "outputs": [],
   "source": [
    "dense121_out = GlobalAveragePooling2D()(densenet121.layers[-1].output)\n",
    "dense121_out = Dense(512, activation='leaky_relu')(dense121_out)\n",
    "dense121_out = Dense(128, activation='leaky_relu')(dense121_out)\n",
    "pred_dense121 = Dense(4, activation='softmax')(dense121_out) "
   ]
  },
  {
   "cell_type": "code",
   "execution_count": null,
   "id": "590e4e6e-d01b-4fdc-8a6d-7f2e2e1003d7",
   "metadata": {},
   "outputs": [],
   "source": [
    "dense121_model = Model(inputs=densenet121.input, outputs=pred_dense121) # resnet50v2.input\n",
    "dense121_model.compile(optimizer=keras.optimizers.adam_v2.Adam(learning_rate=0.00001), loss='sparse_categorical_crossentropy', metrics=['acc'])\n",
    "# res101_model.summary()"
   ]
  },
  {
   "cell_type": "code",
   "execution_count": null,
   "id": "2d03fd97-28cb-4cb8-8df1-99c7c80701ed",
   "metadata": {},
   "outputs": [],
   "source": [
    "for l in dense121_model.layers:\n",
    "    print(l.name)\n",
    "    break "
   ]
  },
  {
   "cell_type": "code",
   "execution_count": null,
   "id": "99bed1e7-f098-416d-bc56-de8d8fed0861",
   "metadata": {},
   "outputs": [],
   "source": [
    "for i,l in enumerate(dense121_model.layers):\n",
    "    train = False\n",
    "    if l.name == 'conv4_block1_0_bn':\n",
    "        train = True\n",
    "        l.trainable = True\n",
    "    elif train:\n",
    "        l.trainable = True\n",
    "    else:\n",
    "        l.trainable = False"
   ]
  },
  {
   "cell_type": "code",
   "execution_count": null,
   "id": "ce33381f-823d-4c9b-9a7c-59d4a2c71224",
   "metadata": {},
   "outputs": [],
   "source": [
    "history = dense121_model.fit(train_generator, \n",
    "                             steps_per_epoch=steps,\n",
    "                             epochs=epochs,\n",
    "                             verbose=1,\n",
    "                             validation_data=valid_generator,\n",
    "                             callbacks=[tensorboard_callback, model_checkpoint_callback_dense])"
   ]
  },
  {
   "cell_type": "code",
   "execution_count": null,
   "id": "c60466db-dcfa-4d00-b221-9f4c5ba35737",
   "metadata": {},
   "outputs": [],
   "source": [
    "fig = plt.gcf()\n",
    "fig.set_size_inches(25, 10)\n",
    "plt.plot(history.history['acc'], label='acc')\n",
    "plt.plot(history.history['val_acc'], label='val_acc')\n",
    "plt.legend()"
   ]
  },
  {
   "cell_type": "code",
   "execution_count": null,
   "id": "c777735f-8123-4460-8e26-db52107bffb7",
   "metadata": {},
   "outputs": [],
   "source": [
    "fig = plt.gcf()\n",
    "fig.set_size_inches(25, 10)\n",
    "plt.plot(history.history['loss'], label='loss')\n",
    "plt.plot(history.history['val_loss'], label='val_loss')\n",
    "plt.legend()"
   ]
  },
  {
   "cell_type": "code",
   "execution_count": null,
   "id": "86350eba-83ed-4c06-a65b-c876077bd8f7",
   "metadata": {},
   "outputs": [],
   "source": [
    "# dense121_model.save('dense121_model'+str(int(time.time())))"
   ]
  },
  {
   "cell_type": "code",
   "execution_count": null,
   "id": "2255f6ba-931e-458a-9d06-76efb19e072d",
   "metadata": {},
   "outputs": [],
   "source": []
  },
  {
   "cell_type": "code",
   "execution_count": null,
   "id": "c74d0616-4877-4a4e-99c6-a527d6ce1fec",
   "metadata": {},
   "outputs": [],
   "source": [
    "y_pred = dense121_model.predict(valid_generator)"
   ]
  },
  {
   "cell_type": "code",
   "execution_count": null,
   "id": "be5c31eb-aa2a-4485-9bdb-a8b917324559",
   "metadata": {},
   "outputs": [],
   "source": [
    "y_pred_bool = np.argmax(y_pred, axis=1)\n",
    "y_test = valid_generator.classes\n",
    "print(y_pred_bool[:10])"
   ]
  },
  {
   "cell_type": "code",
   "execution_count": null,
   "id": "2c843b1e-90a2-4767-b137-15410445a02e",
   "metadata": {},
   "outputs": [],
   "source": [
    "confusion_matrix(y_test, y_pred_bool)"
   ]
  },
  {
   "cell_type": "code",
   "execution_count": null,
   "id": "a1634c39-9643-4396-8223-d9578560cd2b",
   "metadata": {},
   "outputs": [],
   "source": [
    "accuracy_score(y_test, y_pred_bool)"
   ]
  },
  {
   "cell_type": "code",
   "execution_count": null,
   "id": "bcd8025e-5fc3-45c3-8891-5377a5ae06ef",
   "metadata": {},
   "outputs": [],
   "source": [
    "print(classification_report(y_test, np.squeeze(y_pred_bool), target_names=list(valid_generator.class_indices.keys())))"
   ]
  },
  {
   "cell_type": "code",
   "execution_count": null,
   "id": "f4bf08cd-0590-47aa-b1d4-d88ff6362d34",
   "metadata": {},
   "outputs": [],
   "source": []
  },
  {
   "cell_type": "code",
   "execution_count": null,
   "id": "e66c6afa-379f-404d-ad0d-e746c0441e60",
   "metadata": {},
   "outputs": [],
   "source": [
    "dense121_model.load_weights(best_path_dense)"
   ]
  },
  {
   "cell_type": "code",
   "execution_count": null,
   "id": "c7286b27-5a21-43c7-a87d-e8fbf04c9304",
   "metadata": {},
   "outputs": [],
   "source": [
    "y_pred = dense121_model.predict(valid_generator)"
   ]
  },
  {
   "cell_type": "code",
   "execution_count": null,
   "id": "9e07a2a8-d2b3-43d9-80c9-18af3d9ff04c",
   "metadata": {},
   "outputs": [],
   "source": [
    "y_pred_bool = np.argmax(y_pred, axis=1)\n",
    "y_test = valid_generator.classes\n",
    "print(y_pred_bool[:10])"
   ]
  },
  {
   "cell_type": "code",
   "execution_count": null,
   "id": "5a07247f-00f4-4475-8d9b-e6e65cd0cfbb",
   "metadata": {},
   "outputs": [],
   "source": [
    "confusion_matrix(y_test, y_pred_bool)"
   ]
  },
  {
   "cell_type": "code",
   "execution_count": null,
   "id": "bf18f842-0d3f-41a1-88fa-8d2a959dbdec",
   "metadata": {},
   "outputs": [],
   "source": [
    "accuracy_score(y_test, y_pred_bool)"
   ]
  },
  {
   "cell_type": "code",
   "execution_count": null,
   "id": "3349a38d-4f3e-467d-9fbe-7aabfb149943",
   "metadata": {},
   "outputs": [],
   "source": [
    "print(classification_report(y_test, np.squeeze(y_pred_bool), target_names=list(valid_generator.class_indices.keys())))"
   ]
  },
  {
   "cell_type": "code",
   "execution_count": null,
   "id": "24b73304-9337-4fdf-ad94-ddb82bdc8bfb",
   "metadata": {},
   "outputs": [],
   "source": []
  },
  {
   "cell_type": "code",
   "execution_count": null,
   "id": "530bdfd7-e12c-4093-a6b5-dcb8b8bf3442",
   "metadata": {},
   "outputs": [],
   "source": [
    "best_path_adam='./best_val_acc_'+str(int(time.time()))\n",
    "model_checkpoint_callback_adam = keras.callbacks.ModelCheckpoint(\n",
    "    filepath=best_path_adam,\n",
    "    monitor='val_acc',\n",
    "    mode='max',\n",
    "    save_best_only=True,\n",
    "    save_weights_only=True,\n",
    "    initial_value_threshold=0.92)\n",
    ")               "
   ]
  },
  {
   "cell_type": "code",
   "execution_count": null,
   "id": "ChZvfW9uuXcU",
   "metadata": {
    "id": "ChZvfW9uuXcU"
   },
   "outputs": [],
   "source": [
    "adam1 = keras.optimizers.adam_v2.Adam(learning_rate=0.00001) #, clipnorm=1e5)"
   ]
  },
  {
   "cell_type": "code",
   "execution_count": null,
   "id": "u8rEVaG0uXgV",
   "metadata": {
    "id": "u8rEVaG0uXgV"
   },
   "outputs": [],
   "source": [
    "adam1_model = train_nn_model(adam1)"
   ]
  },
  {
   "cell_type": "code",
   "execution_count": null,
   "id": "bCU-2O2WuXjP",
   "metadata": {
    "id": "bCU-2O2WuXjP"
   },
   "outputs": [],
   "source": [
    "# adam1_model.summary()"
   ]
  },
  {
   "cell_type": "code",
   "execution_count": null,
   "id": "WoM1ooQZK88A",
   "metadata": {
    "id": "WoM1ooQZK88A"
   },
   "outputs": [],
   "source": [
    "history = adam1_model.fit(train_generator, \n",
    "                    steps_per_epoch=steps,\n",
    "                    epochs=80,\n",
    "                    verbose=1,\n",
    "                    validation_data=valid_generator,\n",
    "                    callbacks=[tensorboard_callback, model_checkpoint_callback_adam])"
   ]
  },
  {
   "cell_type": "code",
   "execution_count": null,
   "id": "28Ai9VCLmRcX",
   "metadata": {
    "id": "28Ai9VCLmRcX"
   },
   "outputs": [],
   "source": []
  },
  {
   "cell_type": "code",
   "execution_count": null,
   "id": "6cyT9oODR3D-",
   "metadata": {
    "id": "6cyT9oODR3D-"
   },
   "outputs": [],
   "source": [
    "fig = plt.gcf()\n",
    "fig.set_size_inches(25, 10)\n",
    "plt.plot(history.history['acc'], label='acc')\n",
    "plt.plot(history.history['val_acc'], label='val_acc')\n",
    "plt.legend()"
   ]
  },
  {
   "cell_type": "code",
   "execution_count": null,
   "id": "EpNTSz7uR_me",
   "metadata": {
    "id": "EpNTSz7uR_me"
   },
   "outputs": [],
   "source": [
    "fig = plt.gcf()\n",
    "fig.set_size_inches(25, 10)\n",
    "plt.plot(history.history['loss'], label='loss')\n",
    "plt.plot(history.history['val_loss'], label='val_loss')\n",
    "plt.legend()"
   ]
  },
  {
   "cell_type": "code",
   "execution_count": null,
   "id": "4ee8e46d-e8d7-43b8-b42e-3ebedbed8256",
   "metadata": {},
   "outputs": [],
   "source": [
    "valid_generator.classes \n",
    "y_pred = adam1_model.predict(valid_generator)       \n",
    "            "
   ]
  },
  {
   "cell_type": "code",
   "execution_count": null,
   "id": "7786d6a6-2059-474c-980f-79ae3042aa85",
   "metadata": {},
   "outputs": [],
   "source": [
    "y_pred_bool = np.argmax(y_pred, axis=1)\n",
    "y_test = valid_generator.classes\n",
    "print(y_pred_bool[:10])"
   ]
  },
  {
   "cell_type": "code",
   "execution_count": null,
   "id": "14eb111a-7519-4ea0-9741-137bdf54e165",
   "metadata": {},
   "outputs": [],
   "source": [
    "confusion_matrix(y_test, y_pred_bool)"
   ]
  },
  {
   "cell_type": "code",
   "execution_count": null,
   "id": "6e8937dc-a62b-4e35-be54-6bb3719f4e6e",
   "metadata": {},
   "outputs": [],
   "source": [
    "accuracy_score(y_test, y_pred_bool)"
   ]
  },
  {
   "cell_type": "code",
   "execution_count": null,
   "id": "b286e28f-2556-4244-853a-3b4bb9526f89",
   "metadata": {},
   "outputs": [],
   "source": [
    "print(classification_report(y_test, np.squeeze(y_pred_bool), target_names=list(valid_generator.class_indices.keys())))"
   ]
  },
  {
   "cell_type": "markdown",
   "id": "821fa08a-5ca4-40c3-b9e9-20d1767a1c65",
   "metadata": {},
   "source": [
    "Test the \"best\" weights"
   ]
  },
  {
   "cell_type": "code",
   "execution_count": null,
   "id": "c310f671-179f-400b-89de-008ae5d348bc",
   "metadata": {},
   "outputs": [],
   "source": [
    "adam1_model.load_weights(best_path_adam)\n"
   ]
  },
  {
   "cell_type": "code",
   "execution_count": null,
   "id": "e2c6362c-18fb-4e13-926d-ddc579007ce9",
   "metadata": {},
   "outputs": [],
   "source": [
    "y_pred = adam1_model.predict(valid_generator) "
   ]
  },
  {
   "cell_type": "code",
   "execution_count": null,
   "id": "a2d48778-b932-496e-89f3-4af51f211f52",
   "metadata": {},
   "outputs": [],
   "source": [
    "\n",
    "\n",
    "y_pred_bool = np.argmax(y_pred, axis=1)\n",
    "y_test = valid_generator.classes\n",
    "print(y_pred_bool[:10])"
   ]
  },
  {
   "cell_type": "code",
   "execution_count": null,
   "id": "bfa5772b-cf99-4f69-8fa3-9933ffc56433",
   "metadata": {},
   "outputs": [],
   "source": [
    "#print(classification_report(y_test, y_pred_bool))\n",
    "confusion_matrix(y_test, y_pred_bool)"
   ]
  },
  {
   "cell_type": "code",
   "execution_count": null,
   "id": "4d1ac07c-536c-42aa-a46e-ba1fc0bbd4ac",
   "metadata": {},
   "outputs": [],
   "source": [
    "accuracy_score(y_test, y_pred_bool)"
   ]
  },
  {
   "cell_type": "code",
   "execution_count": null,
   "id": "209455e6-f3a4-4854-ae00-59cd799b8d36",
   "metadata": {},
   "outputs": [],
   "source": [
    "print(classification_report(y_test, np.squeeze(y_pred_bool), target_names=list(valid_generator.class_indices.keys())))"
   ]
  }
 ],
 "metadata": {
  "accelerator": "GPU",
  "colab": {
   "name": "ImageExploration.ipynb",
   "provenance": [],
   "toc_visible": true
  },
  "kernelspec": {
   "display_name": "Python 3 (ipykernel)",
   "language": "python",
   "name": "python3"
  },
  "language_info": {
   "codemirror_mode": {
    "name": "ipython",
    "version": 3
   },
   "file_extension": ".py",
   "mimetype": "text/x-python",
   "name": "python",
   "nbconvert_exporter": "python",
   "pygments_lexer": "ipython3",
   "version": "3.10.4"
  }
 },
 "nbformat": 4,
 "nbformat_minor": 5
}
